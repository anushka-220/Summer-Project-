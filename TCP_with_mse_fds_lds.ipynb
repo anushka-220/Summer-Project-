{
 "cells": [
  {
   "cell_type": "code",
   "execution_count": 8,
   "id": "abf50af2",
   "metadata": {},
   "outputs": [],
   "source": [
    "import numpy as np\n",
    "import torch\n",
    "import torch.nn as nn\n",
    "import torch.nn.functional as F\n",
    "from torch.utils.data import TensorDataset, DataLoader\n",
    "from torch.optim import AdamW"
   ]
  },
  {
   "cell_type": "code",
   "execution_count": null,
   "id": "9c3a429d",
   "metadata": {},
   "outputs": [],
   "source": [
    "import random\n",
    "import numpy as np\n",
    "import torch\n",
    "\n",
    "def seed_everything(seed=42):\n",
    "    random.seed(seed)\n",
    "    np.random.seed(seed)\n",
    "    torch.manual_seed(seed)\n",
    "    torch.cuda.manual_seed_all(seed)\n",
    "\n",
    "    # For full reproducibility (slightly slower)\n",
    "    torch.backends.cudnn.deterministic = True\n",
    "    torch.backends.cudnn.benchmark = False\n",
    "\n",
    "seed_everything(42)\n"
   ]
  },
  {
   "cell_type": "code",
   "execution_count": 10,
   "id": "88f1850c",
   "metadata": {},
   "outputs": [
    {
     "name": "stdout",
     "output_type": "stream",
     "text": [
      "['test_embeddings', 'y_train', 'y_labels', 'audio_num', 'probs', 'audio_names']\n",
      "shape of embeddings: (5702, 64)\n",
      "shape of probs: (5702, 12)\n",
      "Shape of labels: (5702,)\n",
      "Shape of y_true: (5702, 12)\n"
     ]
    }
   ],
   "source": [
    "import numpy as np\n",
    "data = np.load('/Users/anushka/Documents/Summer-Project-/dataset/labeled_embeddings_probs_and_labels_v2.npz')\n",
    "#show the keys in the file\n",
    "print(data.files)\n",
    "embeddings = data['test_embeddings']\n",
    "print(\"shape of embeddings:\" , embeddings.shape)\n",
    "probs= data['probs']\n",
    "print(\"shape of probs:\", probs.shape)\n",
    "y_labels = data['y_labels']\n",
    "print(\"Shape of labels:\", y_labels.shape)\n",
    "y_true = data['y_train']\n",
    "print(\"Shape of y_true:\", y_true.shape)\n",
    "\n"
   ]
  },
  {
   "cell_type": "code",
   "execution_count": 11,
   "id": "04e9a0d7",
   "metadata": {},
   "outputs": [
    {
     "name": "stdout",
     "output_type": "stream",
     "text": [
      "['test_embeddings', 'y_train', 'y_labels', 'audio_num', 'probs', 'audio_names']\n",
      "shape of embeddings: (5702, 64)\n",
      "shape of probs: (5702, 12)\n",
      "Shape of labels: (5702,)\n",
      "Shape of y_true: (5702, 12)\n"
     ]
    }
   ],
   "source": [
    "import numpy as np\n",
    "data = np.load('/Users/anushka/Documents/Summer-Project-/dataset/labeled_embeddings_probs_and_labels_v2.npz')\n",
    "#show the keys in the file\n",
    "print(data.files)\n",
    "embeddings = data['test_embeddings']\n",
    "print(\"shape of embeddings:\" , embeddings.shape)\n",
    "probs= data['probs']\n",
    "print(\"shape of probs:\", probs.shape)\n",
    "y_labels = data['y_labels']\n",
    "print(\"Shape of labels:\", y_labels.shape)\n",
    "y_true = data['y_train']\n",
    "print(\"Shape of y_true:\", y_true.shape)\n",
    "\n"
   ]
  },
  {
   "cell_type": "code",
   "execution_count": 12,
   "id": "c10ae84e",
   "metadata": {},
   "outputs": [],
   "source": [
    "#Computing ECE\n",
    "def compute_ECE(confidences, predictions, labels, n_bins=15):\n",
    "    accuracies = (predictions == labels)\n",
    "\n",
    "    bin_boundaries = np.linspace(0.0, 1.0, n_bins + 1)\n",
    "    bin_lowers = bin_boundaries[:-1]\n",
    "    bin_uppers = bin_boundaries[1:]\n",
    "\n",
    "    ece = 0.0\n",
    "    total_samples = len(confidences)\n",
    "\n",
    "    for bin_lower, bin_upper in zip(bin_lowers, bin_uppers):\n",
    "        in_bin = np.logical_and(confidences > bin_lower, confidences <= bin_upper)\n",
    "        prop_in_bin = np.sum(in_bin) / total_samples\n",
    "\n",
    "        if np.sum(in_bin) > 0:\n",
    "            accuracy_in_bin = np.mean(accuracies[in_bin])\n",
    "            avg_confidence_in_bin = np.mean(confidences[in_bin])\n",
    "            ece += prop_in_bin * np.abs(avg_confidence_in_bin - accuracy_in_bin)\n",
    "\n",
    "    return ece\n"
   ]
  },
  {
   "cell_type": "code",
   "execution_count": null,
   "id": "bd4b4376",
   "metadata": {},
   "outputs": [],
   "source": []
  },
  {
   "cell_type": "code",
   "execution_count": 13,
   "id": "b39c808b",
   "metadata": {},
   "outputs": [
    {
     "ename": "NameError",
     "evalue": "name 'y_true_class' is not defined",
     "output_type": "error",
     "traceback": [
      "\u001b[0;31m---------------------------------------------------------------------------\u001b[0m",
      "\u001b[0;31mNameError\u001b[0m                                 Traceback (most recent call last)",
      "Cell \u001b[0;32mIn[13], line 3\u001b[0m\n\u001b[1;32m      1\u001b[0m \u001b[38;5;66;03m#Indicator funtion and Target TCP Values\u001b[39;00m\n\u001b[0;32m----> 3\u001b[0m indicator \u001b[38;5;241m=\u001b[39m (\u001b[43my_true_class\u001b[49m \u001b[38;5;241m!=\u001b[39m y_hat)\u001b[38;5;241m.\u001b[39mastype(\u001b[38;5;28mfloat\u001b[39m)\n\u001b[1;32m      4\u001b[0m alpha \u001b[38;5;241m=\u001b[39m \u001b[38;5;241m0.3\u001b[39m\n\u001b[1;32m      5\u001b[0m numerator \u001b[38;5;241m=\u001b[39m p_y_star\n",
      "\u001b[0;31mNameError\u001b[0m: name 'y_true_class' is not defined"
     ]
    }
   ],
   "source": [
    "#Indicator funtion and Target TCP Values\n",
    "\n",
    "indicator = (y_true_class != y_hat).astype(float)\n",
    "alpha = 0.3\n",
    "numerator = p_y_star\n",
    "denominator = p_y_hat + (indicator * (p_y_star + alpha))\n",
    "tcp_star_targets = numerator / denominator\n",
    "print(\"tcp_star_targets shape:\", tcp_star_targets)"
   ]
  },
  {
   "cell_type": "code",
   "execution_count": null,
   "id": "fe753767",
   "metadata": {},
   "outputs": [
    {
     "data": {
      "image/png": "[encoded data removed]",
      "text/plain": [
       "<Figure size 640x480 with 1 Axes>"
      ]
     },
     "metadata": {},
     "output_type": "display_data"
    }
   ],
   "source": [
    "#plot histogram of tcp_star_targets\n",
    "import matplotlib.pyplot as plt\n",
    "plt.hist(tcp_star_targets, bins=50)\n",
    "plt.xlabel('TCP Star Targets')\n",
    "plt.ylabel('Frequency')\n",
    "plt.title('Histogram of TCP Star Targets')\n",
    "plt.show()"
   ]
  },
  {
   "cell_type": "code",
   "execution_count": null,
   "id": "0d97756c",
   "metadata": {},
   "outputs": [
    {
     "name": "stdout",
     "output_type": "stream",
     "text": [
      "Balanced embeddings shape: (10552, 64)\n",
      "Balanced TCP Star Targets shape: (10552,)\n"
     ]
    }
   ],
   "source": [
    "# Upsampling the errors to create a balanced batch \n",
    "\n",
    "# Select indices\n",
    "correct_idx = np.where(y_hat == y_true_class)[0]\n",
    "error_idx = np.where(y_hat != y_true_class)[0]\n",
    "\n",
    "# You can duplicate errors to balance them\n",
    "n_errors = len(error_idx)\n",
    "n_correct = len(correct_idx)\n",
    "upsample_errors = np.random.choice(error_idx, size=n_correct, replace=True)\n",
    "\n",
    "balanced_idx = np.concatenate([correct_idx, upsample_errors])\n",
    "np.random.shuffle(balanced_idx)\n",
    "\n",
    "X_balanced = embeddings[balanced_idx]\n",
    "y_balanced = tcp_star_targets[balanced_idx]\n",
    "print(\"Balanced embeddings shape:\", X_balanced.shape)\n",
    "print(\"Balanced TCP Star Targets shape:\", y_balanced.shape)"
   ]
  },
  {
   "cell_type": "code",
   "execution_count": null,
   "id": "434cdb00",
   "metadata": {},
   "outputs": [
    {
     "ename": "NameError",
     "evalue": "name 'n_correct' is not defined",
     "output_type": "error",
     "traceback": [
      "\u001b[0;31m---------------------------------------------------------------------------\u001b[0m",
      "\u001b[0;31mNameError\u001b[0m                                 Traceback (most recent call last)",
      "Cell \u001b[0;32mIn[7], line 1\u001b[0m\n\u001b[0;32m----> 1\u001b[0m \u001b[43mn_correct\u001b[49m\n",
      "\u001b[0;31mNameError\u001b[0m: name 'n_correct' is not defined"
     ]
    }
   ],
   "source": [
    "n_correct"
   ]
  },
  {
   "cell_type": "code",
   "execution_count": null,
   "id": "61c44e20",
   "metadata": {},
   "outputs": [
    {
     "data": {
      "image/png": "[encoded data removed]",
      "text/plain": [
       "<Figure size 640x480 with 1 Axes>"
      ]
     },
     "metadata": {},
     "output_type": "display_data"
    }
   ],
   "source": [
    "#plot histogram of tcp_star_targets\n",
    "import matplotlib.pyplot as plt\n",
    "plt.hist(y_balanced, bins=50)\n",
    "plt.xlabel('TCP Star Targets')\n",
    "plt.ylabel('Frequency')\n",
    "plt.title('Histogram of TCP Star Targets')\n",
    "plt.show()"
   ]
  },
  {
   "cell_type": "code",
   "execution_count": null,
   "id": "975d8a3d",
   "metadata": {},
   "outputs": [
    {
     "name": "stdout",
     "output_type": "stream",
     "text": [
      "(5702,)\n"
     ]
    }
   ],
   "source": [
    "tcp_targets= p_y_star / p_y_hat\n",
    "print(tcp_targets.shape)"
   ]
  },
  {
   "cell_type": "code",
   "execution_count": null,
   "id": "08f84066",
   "metadata": {},
   "outputs": [],
   "source": [
    "X= X_balanced\n",
    "y= y_balanced"
   ]
  },
  {
   "cell_type": "code",
   "execution_count": null,
   "id": "b836b432",
   "metadata": {},
   "outputs": [],
   "source": [
    "import torch.nn as nn\n",
    "\n",
    "class ConfidenceNet(nn.Module):\n",
    "    def __init__(self, input_dim):\n",
    "        super(ConfidenceNet, self).__init__()\n",
    "        self.net = nn.Sequential(\n",
    "            nn.Linear(input_dim, 256),\n",
    "            nn.BatchNorm1d(256),\n",
    "            nn.ReLU(),\n",
    "            \n",
    "\n",
    "            nn.Linear(256, 128),\n",
    "            nn.BatchNorm1d(128),\n",
    "            nn.ReLU(),\n",
    "            \n",
    "\n",
    "            nn.Linear(128, 64),\n",
    "            nn.ReLU(),\n",
    "\n",
    "            nn.Linear(64, 1),\n",
    "            nn.Sigmoid()\n",
    "        )\n",
    "\n",
    "    def forward(self, x):\n",
    "        return self.net(x).squeeze(-1)\n"
   ]
  },
  {
   "cell_type": "code",
   "execution_count": null,
   "id": "87d6dbfd",
   "metadata": {},
   "outputs": [],
   "source": [
    "from sklearn.model_selection import train_test_split\n",
    "\n",
    "# 80% for training, 20% for validation\n",
    "X_train, X_val, y_train, y_val = train_test_split(\n",
    "    X, y, test_size=0.2, random_state=42\n",
    ")\n"
   ]
  },
  {
   "cell_type": "code",
   "execution_count": null,
   "id": "5281bd8b",
   "metadata": {},
   "outputs": [
    {
     "name": "stdout",
     "output_type": "stream",
     "text": [
      "[ 1 11  9 ... 11  9  1]\n",
      "[ 8 11 11 ... 11  9  1]\n"
     ]
    }
   ],
   "source": [
    "print(y_hat)\n",
    "print(y_true_class)\n"
   ]
  },
  {
   "cell_type": "code",
   "execution_count": null,
   "id": "a2d2d18e",
   "metadata": {},
   "outputs": [],
   "source": [
    "input_dim = X_train.shape[1]\n",
    "num_bins = 40\n",
    "bins = np.linspace(0, 1, num_bins + 1)\n",
    "bin_ids = np.clip(np.digitize(y_train, bins) - 1, 0, num_bins - 1)\n"
   ]
  },
  {
   "cell_type": "code",
   "execution_count": null,
   "id": "ec636e08",
   "metadata": {},
   "outputs": [],
   "source": [
    "X_train_tensor = torch.tensor(X_train, dtype=torch.float32)\n",
    "y_train_tensor = torch.tensor(y_train, dtype=torch.float32)\n",
    "X_val_tensor = torch.tensor(X_val, dtype=torch.float32)\n",
    "y_val_tensor = torch.tensor(y_val, dtype=torch.float32)\n"
   ]
  },
  {
   "cell_type": "code",
   "execution_count": null,
   "id": "828a54a0",
   "metadata": {},
   "outputs": [],
   "source": [
    "# LDS weights\n",
    "def compute_lds_weights(y, num_bins=60, kernel_sigma=2.0):\n",
    "    bins = np.linspace(0, 1, num_bins + 1)\n",
    "    bin_ids = np.clip(np.digitize(y, bins) - 1, 0, num_bins - 1)\n",
    "    counts = np.bincount(bin_ids, minlength=num_bins)\n",
    "\n",
    "    distances = np.arange(num_bins)[:, None] - np.arange(num_bins)[None, :]\n",
    "    kernel = np.exp(-0.5 * (distances / kernel_sigma) ** 2)\n",
    "    kernel = kernel / kernel.sum(axis=1, keepdims=True)\n",
    "    smoothed_counts = kernel @ counts\n",
    "\n",
    "    weights = 1.0 / (smoothed_counts[bin_ids] + 1e-6)\n",
    "    return (weights / weights.mean()).astype(np.float32)\n",
    "\n",
    "lds_weights = compute_lds_weights(y_train, num_bins=num_bins, kernel_sigma=2.0)\n",
    "lds_weights_tensor = torch.tensor(lds_weights, dtype=torch.float32)"
   ]
  },
  {
   "cell_type": "code",
   "execution_count": null,
   "id": "7f4d6481",
   "metadata": {},
   "outputs": [
    {
     "data": {
      "image/png": "[encoded data removed]",
      "text/plain": [
       "<Figure size 800x500 with 1 Axes>"
      ]
     },
     "metadata": {},
     "output_type": "display_data"
    }
   ],
   "source": [
    "plt.figure(figsize=(8, 5))\n",
    "plt.scatter(y_train, lds_weights, alpha=0.4, s=10, label=\"LDS Weights\")\n",
    "plt.title(\"LDS Weights vs. TCP* Targets\")\n",
    "plt.xlabel(\"TCP* target\")\n",
    "plt.ylabel(\"Sample weight (LDS)\")\n",
    "plt.grid(True)\n",
    "plt.legend()\n",
    "plt.show()"
   ]
  },
  {
   "cell_type": "code",
   "execution_count": null,
   "id": "ecae310c",
   "metadata": {},
   "outputs": [
    {
     "data": {
      "image/png": "[encoded data removed]",
      "text/plain": [
       "<Figure size 640x480 with 1 Axes>"
      ]
     },
     "metadata": {},
     "output_type": "display_data"
    }
   ],
   "source": [
    "import numpy as np\n",
    "\n",
    "num_bins = 60\n",
    "bins = np.linspace(0, 1, num_bins + 1)\n",
    "bin_ids = np.digitize(y_train, bins) - 1\n",
    "bin_ids = np.clip(bin_ids, 0, num_bins - 1)\n",
    "\n",
    "bin_weights = [lds_weights[bin_ids == i].mean() if np.any(bin_ids == i) else 0 for i in range(num_bins)]\n",
    "\n",
    "plt.bar(bins[:-1], bin_weights, width=0.025, align='edge', edgecolor='k')\n",
    "plt.title(\"Average LDS Weight per Bin\")\n",
    "plt.xlabel(\"TCP* bin\")\n",
    "plt.ylabel(\"Average weight\")\n",
    "plt.show()"
   ]
  },
  {
   "cell_type": "code",
   "execution_count": null,
   "id": "39301df1",
   "metadata": {},
   "outputs": [],
   "source": [
    "# DataLoaders\n",
    "train_dataset = TensorDataset(X_train_tensor, y_train_tensor, lds_weights_tensor)\n",
    "train_loader = DataLoader(train_dataset, batch_size=64, shuffle=True)\n",
    "val_loader = DataLoader(TensorDataset(X_val_tensor, y_val_tensor), batch_size=64)\n"
   ]
  },
  {
   "cell_type": "code",
   "execution_count": null,
   "id": "cf152bea",
   "metadata": {},
   "outputs": [],
   "source": [
    "#FDS\n",
    "def smooth_stats(mu, var, sigma=1.3):\n",
    "    distances = torch.arange(num_bins).unsqueeze(1) - torch.arange(num_bins).unsqueeze(0)\n",
    "    weights = torch.exp(-0.5 * (distances.float() / sigma) ** 2)\n",
    "    weights /= weights.sum(dim=1, keepdim=True)\n",
    "    mu_smooth = weights @ mu\n",
    "    var_smooth = weights @ var\n",
    "    return mu_smooth, var_smooth\n"
   ]
  },
  {
   "cell_type": "code",
   "execution_count": null,
   "id": "bbb8c3fd",
   "metadata": {},
   "outputs": [],
   "source": [
    "\n",
    "model = ConfidenceNet(input_dim)\n",
    "optimizer = AdamW(model.parameters(), lr=1e-3, weight_decay=1e-2)\n",
    "criterion = nn.MSELoss()"
   ]
  },
  {
   "cell_type": "code",
   "execution_count": null,
   "id": "7a5bc76e",
   "metadata": {},
   "outputs": [
    {
     "name": "stdout",
     "output_type": "stream",
     "text": [
      "Epoch 01 | Train Loss: 0.020173 | Val Loss: 0.396208\n",
      "Epoch 02 | Train Loss: 0.004125 | Val Loss: 0.398556\n",
      "Epoch 03 | Train Loss: 0.002207 | Val Loss: 0.399608\n",
      "Epoch 04 | Train Loss: 0.001339 | Val Loss: 0.399742\n",
      "Epoch 05 | Train Loss: 0.001226 | Val Loss: 0.399743\n",
      "Epoch 06 | Train Loss: 0.000779 | Val Loss: 0.399743\n",
      "Epoch 07 | Train Loss: 0.000549 | Val Loss: 0.399772\n",
      "Epoch 08 | Train Loss: 0.001949 | Val Loss: 0.399699\n",
      "Epoch 09 | Train Loss: 0.002049 | Val Loss: 0.399609\n",
      "Epoch 10 | Train Loss: 0.000906 | Val Loss: 0.399768\n",
      "Epoch 11 | Train Loss: 0.000453 | Val Loss: 0.399774\n",
      "Epoch 12 | Train Loss: 0.000408 | Val Loss: 0.399777\n",
      "Epoch 13 | Train Loss: 0.001063 | Val Loss: 0.399735\n",
      "Epoch 14 | Train Loss: 0.001750 | Val Loss: 0.392224\n",
      "Epoch 15 | Train Loss: 0.001027 | Val Loss: 0.399706\n",
      "Epoch 16 | Train Loss: 0.000412 | Val Loss: 0.399768\n",
      "Epoch 17 | Train Loss: 0.000407 | Val Loss: 0.399770\n",
      "Epoch 18 | Train Loss: 0.000569 | Val Loss: 0.399467\n",
      "Epoch 19 | Train Loss: 0.000411 | Val Loss: 0.399773\n",
      "Epoch 20 | Train Loss: 0.001045 | Val Loss: 0.399778\n",
      "Epoch 21 | Train Loss: 0.000796 | Val Loss: 0.399778\n",
      "Epoch 22 | Train Loss: 0.000426 | Val Loss: 0.399779\n",
      "Epoch 23 | Train Loss: 0.000259 | Val Loss: 0.399779\n",
      "Epoch 24 | Train Loss: 0.000224 | Val Loss: 0.399780\n",
      "Epoch 25 | Train Loss: 0.000177 | Val Loss: 0.399780\n",
      "Epoch 26 | Train Loss: 0.000163 | Val Loss: 0.399780\n",
      "Epoch 27 | Train Loss: 0.000172 | Val Loss: 0.399780\n",
      "Epoch 28 | Train Loss: 0.000144 | Val Loss: 0.399780\n",
      "Epoch 29 | Train Loss: 0.000140 | Val Loss: 0.399780\n",
      "Epoch 30 | Train Loss: 0.000175 | Val Loss: 0.399776\n",
      "Epoch 31 | Train Loss: 0.000197 | Val Loss: 0.399780\n",
      "Epoch 32 | Train Loss: 0.003836 | Val Loss: 0.399721\n",
      "Epoch 33 | Train Loss: 0.000910 | Val Loss: 0.399769\n",
      "Epoch 34 | Train Loss: 0.000552 | Val Loss: 0.399780\n",
      "Epoch 35 | Train Loss: 0.000221 | Val Loss: 0.399780\n",
      "Epoch 36 | Train Loss: 0.000211 | Val Loss: 0.399780\n",
      "Epoch 37 | Train Loss: 0.000185 | Val Loss: 0.399780\n",
      "Epoch 38 | Train Loss: 0.000183 | Val Loss: 0.399780\n",
      "Epoch 39 | Train Loss: 0.000190 | Val Loss: 0.399780\n",
      "Epoch 40 | Train Loss: 0.000335 | Val Loss: 0.399780\n",
      "Epoch 41 | Train Loss: 0.000263 | Val Loss: 0.399780\n",
      "Epoch 42 | Train Loss: 0.000160 | Val Loss: 0.399780\n",
      "Epoch 43 | Train Loss: 0.000154 | Val Loss: 0.399780\n",
      "Epoch 44 | Train Loss: 0.000146 | Val Loss: 0.399780\n",
      "Epoch 45 | Train Loss: 0.000142 | Val Loss: 0.399780\n",
      "Epoch 46 | Train Loss: 0.000134 | Val Loss: 0.399780\n",
      "Epoch 47 | Train Loss: 0.000112 | Val Loss: 0.399780\n",
      "Epoch 48 | Train Loss: 0.000129 | Val Loss: 0.399780\n",
      "Epoch 49 | Train Loss: 0.000099 | Val Loss: 0.399780\n",
      "Epoch 50 | Train Loss: 0.000628 | Val Loss: 0.393759\n",
      "Epoch 51 | Train Loss: 0.001663 | Val Loss: 0.399778\n",
      "Epoch 52 | Train Loss: 0.000519 | Val Loss: 0.399779\n",
      "Epoch 53 | Train Loss: 0.000259 | Val Loss: 0.399780\n",
      "Epoch 54 | Train Loss: 0.000154 | Val Loss: 0.399780\n",
      "Epoch 55 | Train Loss: 0.000155 | Val Loss: 0.399780\n",
      "Epoch 56 | Train Loss: 0.000592 | Val Loss: 0.399779\n",
      "Epoch 57 | Train Loss: 0.000947 | Val Loss: 0.399780\n",
      "Epoch 58 | Train Loss: 0.000210 | Val Loss: 0.399780\n",
      "Epoch 59 | Train Loss: 0.000171 | Val Loss: 0.399780\n",
      "Epoch 60 | Train Loss: 0.000369 | Val Loss: 0.399758\n"
     ]
    }
   ],
   "source": [
    "mu = torch.zeros(num_bins, input_dim)\n",
    "var = torch.ones(num_bins, input_dim)\n",
    "\n",
    "for epoch in range(60):\n",
    "    model.train()\n",
    "    train_losses = []\n",
    "\n",
    "    # Step 1: Update bin-wise feature stats\n",
    "    with torch.no_grad():\n",
    "        for b in range(num_bins):\n",
    "            idx = torch.tensor(bin_ids) == b\n",
    "            if idx.sum() == 0: continue\n",
    "            feats = X_train_tensor[idx]\n",
    "            mu[b] = feats.mean(dim=0)\n",
    "            var[b] = feats.var(dim=0)\n",
    "\n",
    "    # Step 2: Apply FDS smoothing\n",
    "    mu_smooth, var_smooth = smooth_stats(mu, var)\n",
    "\n",
    "    # Step 3: Training loop\n",
    "    for xb, yb, wb in train_loader:\n",
    "        with torch.no_grad():\n",
    "            yb_bin = torch.clamp(torch.bucketize(yb, torch.tensor(bins[1:-1])), 0, num_bins - 1)\n",
    "            mean_b = mu_smooth[yb_bin]\n",
    "            std_b = torch.sqrt(var_smooth[yb_bin] + 1e-6)\n",
    "            xb_norm = (xb - mean_b) / std_b\n",
    "\n",
    "        pred = model(xb_norm)\n",
    "        loss = ((pred - yb) ** 2 * wb).mean()\n",
    "\n",
    "        optimizer.zero_grad()\n",
    "        loss.backward()\n",
    "        optimizer.step()\n",
    "        train_losses.append(loss.item())\n",
    "\n",
    "    # Step 4: Validation\n",
    "    model.eval()\n",
    "    val_losses = []\n",
    "    with torch.no_grad():\n",
    "        for xb, yb in val_loader:\n",
    "            pred = model(xb)\n",
    "            loss = criterion(pred, yb)\n",
    "            val_losses.append(loss.item())\n",
    "\n",
    "    print(f\"Epoch {epoch+1:02d} | Train Loss: {np.mean(train_losses):.6f} | Val Loss: {np.mean(val_losses):.6f}\")"
   ]
  },
  {
   "cell_type": "code",
   "execution_count": null,
   "id": "49c5825d",
   "metadata": {},
   "outputs": [
    {
     "name": "stdout",
     "output_type": "stream",
     "text": [
      "Confidence scores shape: [0.99999976 1.         0.9999999  ... 1.         1.         1.        ]\n"
     ]
    }
   ],
   "source": [
    "model.eval()\n",
    "with torch.no_grad():\n",
    "    X_test_tensor = torch.tensor(embeddings, dtype=torch.float32)\n",
    "    confidence_scores = model(X_test_tensor).numpy()\n",
    "print(\"Confidence scores shape:\", confidence_scores)"
   ]
  },
  {
   "cell_type": "code",
   "execution_count": null,
   "id": "41a36115",
   "metadata": {},
   "outputs": [
    {
     "name": "stdout",
     "output_type": "stream",
     "text": [
      "Min confidence score: 0.9940498\n",
      "Max confidence score: 1.0\n"
     ]
    }
   ],
   "source": [
    "# print min max of confidence scores\n",
    "print(\"Min confidence score:\", np.min(confidence_scores))\n",
    "print(\"Max confidence score:\", np.max(confidence_scores))"
   ]
  },
  {
   "cell_type": "code",
   "execution_count": null,
   "id": "3bf2a6c6",
   "metadata": {},
   "outputs": [
    {
     "data": {
      "image/png": "[encoded data removed]",
      "text/plain": [
       "<Figure size 1000x700 with 1 Axes>"
      ]
     },
     "metadata": {},
     "output_type": "display_data"
    }
   ],
   "source": [
    "import matplotlib.pyplot as plt\n",
    "from sklearn.preprocessing import LabelEncoder\n",
    "label_encoder = LabelEncoder()\n",
    "y_labels_int = label_encoder.fit_transform(y_labels)\n",
    "is_correct = (y_hat == y_true_class)\n",
    "success_confidences = confidence_scores[is_correct]\n",
    "error_confidences = confidence_scores[~is_correct]\n",
    "\n",
    "plt.figure(figsize=(10, 7))\n",
    "plt.hist(success_confidences, bins=30, alpha=0.7, label='Successes (Correct Predictions)', color='green')\n",
    "plt.hist(error_confidences, bins=15, alpha=0.8, label='Errors (Incorrect Predictions)', color='red')\n",
    "plt.xlabel('Predicted Confidence Score', fontsize=12)\n",
    "plt.ylabel('Number of Samples', fontsize=12)\n",
    "plt.title('Confidence Score Distribution', fontsize=14)\n",
    "plt.legend()\n",
    "plt.grid(axis='y', alpha=0.5)\n",
    "plt.show()\n",
    "\n"
   ]
  },
  {
   "cell_type": "code",
   "execution_count": null,
   "id": "4904b70f",
   "metadata": {},
   "outputs": [
    {
     "name": "stdout",
     "output_type": "stream",
     "text": [
      "5.542017715419596e-06 1.0\n"
     ]
    }
   ],
   "source": [
    "print(y_train.min(), y_train.max())"
   ]
  }
 ],
 "metadata": {
  "kernelspec": {
   "display_name": "jello",
   "language": "python",
   "name": "python3"
  },
  "language_info": {
   "codemirror_mode": {
    "name": "ipython",
    "version": 3
   },
   "file_extension": ".py",
   "mimetype": "text/x-python",
   "name": "python",
   "nbconvert_exporter": "python",
   "pygments_lexer": "ipython3",
   "version": "3.10.16"
  }
 },
 "nbformat": 4,
 "nbformat_minor": 5
}
