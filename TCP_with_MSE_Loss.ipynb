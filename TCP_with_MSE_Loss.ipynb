{
 "cells": [
  {
   "cell_type": "code",
   "execution_count": 6,
   "id": "bca7b010",
   "metadata": {},
   "outputs": [],
   "source": [
    "import random\n",
    "import numpy as np\n",
    "import torch\n",
    "\n",
    "def seed_everything(seed=42):\n",
    "    random.seed(seed)\n",
    "    np.random.seed(seed)\n",
    "    torch.manual_seed(seed)\n",
    "    torch.cuda.manual_seed_all(seed)\n",
    "\n",
    "    # For full reproducibility (slightly slower)\n",
    "    torch.backends.cudnn.deterministic = True\n",
    "    torch.backends.cudnn.benchmark = False\n",
    "\n",
    "seed_everything(42)\n"
   ]
  },
  {
   "cell_type": "markdown",
   "id": "e4b525a8",
   "metadata": {},
   "source": [
    "## 1. TCP with MSE Loss"
   ]
  },
  {
   "cell_type": "code",
   "execution_count": 7,
   "id": "87186455",
   "metadata": {},
   "outputs": [
    {
     "name": "stdout",
     "output_type": "stream",
     "text": [
      "['test_embeddings', 'y_train', 'y_labels', 'audio_num', 'probs', 'audio_names']\n",
      "shape of embeddings: (5702, 64)\n",
      "shape of probs: (5702, 12)\n",
      "Shape of labels: (5702,)\n",
      "Shape of y_true: (5702, 12)\n",
      "Label names: ['Bhairavi' 'Bihag' 'Des' 'Jog' 'Kedar' 'Khamaj' 'Malkauns' 'Maru_bihaag'\n",
      " 'Nayaki_kanada' 'Shuddha_kalyan' 'Sohni' 'Yaman']\n"
     ]
    }
   ],
   "source": [
    "import numpy as np\n",
    "data = np.load('/Users/anushka/Documents/Summer-Project-/dataset/labeled_embeddings_probs_and_labels_v2.npz')\n",
    "#show the keys in the file\n",
    "print(data.files)\n",
    "embeddings = data['test_embeddings']\n",
    "print(\"shape of embeddings:\" , embeddings.shape)\n",
    "probs= data['probs']\n",
    "print(\"shape of probs:\", probs.shape)\n",
    "y_labels = data['y_labels']\n",
    "print(\"Shape of labels:\", y_labels.shape)\n",
    "y_true = data['y_train']\n",
    "print(\"Shape of y_true:\", y_true.shape)\n",
    "print(\"Label names:\", np.unique(data['y_labels']))\n"
   ]
  },
  {
   "cell_type": "code",
   "execution_count": 8,
   "id": "3e552600",
   "metadata": {},
   "outputs": [
    {
     "name": "stdout",
     "output_type": "stream",
     "text": [
      "predicted class : [ 1 11  9 ... 11  9  1]\n",
      "predicted probabilities : [0.544058   0.97347754 0.7518662  ... 0.96628433 0.9899086  0.9475812 ]\n",
      "true class : [[0 0 0 ... 0 0 0]\n",
      " [0 0 0 ... 0 0 1]\n",
      " [0 0 0 ... 0 0 1]\n",
      " ...\n",
      " [0 0 0 ... 0 0 1]\n",
      " [0 0 0 ... 1 0 0]\n",
      " [0 1 0 ... 0 0 0]]\n",
      "true class probabilities : [0.4308202  0.97347754 0.23816009 ... 0.96628433 0.98990858 0.94758117]\n",
      "true class labels : [ 8 11 11 ... 11  9  1]\n"
     ]
    }
   ],
   "source": [
    "#Predicted class\n",
    "y_hat = np.argmax(probs, axis=1)\n",
    "print(\"predicted class :\", y_hat)\n",
    "#Prob of predicted class\n",
    "p_y_hat = np.max(probs, axis=1)\n",
    "print(\"predicted probabilities :\", p_y_hat)\n",
    "\n",
    "#True class one hot matrix\n",
    "y_star= y_true\n",
    "print(\"true class :\", y_star)\n",
    "#Prob of true class\n",
    "p_y_star = np.sum(probs * y_star, axis=1)\n",
    "print(\"true class probabilities :\", p_y_star)\n",
    "\n",
    "#True class labels\n",
    "y_true_class = np.argmax(y_true, axis=1) if y_true.ndim > 1 else y_true\n",
    "print(\"true class labels :\", y_true_class)\n"
   ]
  },
  {
   "cell_type": "code",
   "execution_count": 9,
   "id": "f92fb44e",
   "metadata": {},
   "outputs": [],
   "source": [
    "#Computing ECE\n",
    "def compute_ECE(confidences, predictions, labels, n_bins=15):\n",
    "    accuracies = (predictions == labels)\n",
    "\n",
    "    bin_boundaries = np.linspace(0.0, 1.0, n_bins + 1)\n",
    "    bin_lowers = bin_boundaries[:-1]\n",
    "    bin_uppers = bin_boundaries[1:]\n",
    "\n",
    "    ece = 0.0\n",
    "    total_samples = len(confidences)\n",
    "\n",
    "    for bin_lower, bin_upper in zip(bin_lowers, bin_uppers):\n",
    "        in_bin = np.logical_and(confidences > bin_lower, confidences <= bin_upper)\n",
    "        prop_in_bin = np.sum(in_bin) / total_samples\n",
    "\n",
    "        if np.sum(in_bin) > 0:\n",
    "            accuracy_in_bin = np.mean(accuracies[in_bin])\n",
    "            avg_confidence_in_bin = np.mean(confidences[in_bin])\n",
    "            ece += np.abs(avg_confidence_in_bin - accuracy_in_bin)\n",
    "\n",
    "    return ece\n"
   ]
  },
  {
   "cell_type": "code",
   "execution_count": 10,
   "id": "716b0598",
   "metadata": {},
   "outputs": [
    {
     "name": "stdout",
     "output_type": "stream",
     "text": [
      "predicted class : (5702,)\n",
      "predicted probabilities : (5702,)\n",
      "true class : [[0 0 0 ... 0 0 0]\n",
      " [0 0 0 ... 0 0 1]\n",
      " [0 0 0 ... 0 0 1]\n",
      " ...\n",
      " [0 0 0 ... 0 0 1]\n",
      " [0 0 0 ... 1 0 0]\n",
      " [0 1 0 ... 0 0 0]]\n",
      "true class probabilities : (5702,)\n",
      "true class labels : (5702,)\n"
     ]
    }
   ],
   "source": [
    "#Predicted class\n",
    "y_hat = np.argmax(probs, axis=1)\n",
    "print(\"predicted class :\", y_hat.shape)\n",
    "#Prob of predicted class\n",
    "p_y_hat = np.max(probs, axis=1)\n",
    "print(\"predicted probabilities :\", p_y_hat.shape)\n",
    "\n",
    "#True class one hot matrix\n",
    "y_star= y_true\n",
    "print(\"true class :\", y_star)\n",
    "#Prob of true class\n",
    "p_y_star = np.sum(probs * y_star, axis=1)\n",
    "print(\"true class probabilities :\", p_y_star.shape)\n",
    "\n",
    "#True class labels\n",
    "y_true_class = np.argmax(y_true, axis=1) if y_true.ndim > 1 else y_true\n",
    "print(\"true class labels :\", y_true_class.shape)\n"
   ]
  },
  {
   "cell_type": "markdown",
   "id": "bb5412c1",
   "metadata": {},
   "source": [
    "### Using TCPr"
   ]
  },
  {
   "cell_type": "code",
   "execution_count": 11,
   "id": "13bfa86a",
   "metadata": {},
   "outputs": [
    {
     "name": "stdout",
     "output_type": "stream",
     "text": [
      "tcp_star_targets shape: [0.33793047 1.         0.18461646 ... 1.         1.         1.        ]\n"
     ]
    }
   ],
   "source": [
    "def compute_tcp_star_targets(y_true_class, y_hat, p_y_star, p_y_hat, alpha):\n",
    "    indicator = (y_true_class != y_hat).astype(float)\n",
    "    numerator = p_y_star\n",
    "    denominator = p_y_hat + (indicator * (p_y_star + alpha))\n",
    "    tcp_star_targets = numerator / denominator\n",
    "    return tcp_star_targets\n",
    "\n",
    "tcp_star_targets = compute_tcp_star_targets(y_true_class, y_hat, p_y_star, p_y_hat, alpha=0.3)\n",
    "print(\"tcp_star_targets shape:\", tcp_star_targets)"
   ]
  },
  {
   "cell_type": "code",
   "execution_count": 12,
   "id": "1d3aecff",
   "metadata": {},
   "outputs": [
    {
     "data": {
      "image/png": "[encoded data removed]",
      "text/plain": [
       "<Figure size 640x480 with 1 Axes>"
      ]
     },
     "metadata": {},
     "output_type": "display_data"
    }
   ],
   "source": [
    "#plot histogram of tcp_star_targets\n",
    "import matplotlib.pyplot as plt\n",
    "plt.hist(tcp_star_targets, bins=50)\n",
    "plt.xlabel('TCP Star Targets')\n",
    "plt.ylabel('Frequency')\n",
    "plt.title('Histogram of TCP Star Targets')\n",
    "plt.show()"
   ]
  },
  {
   "cell_type": "code",
   "execution_count": 13,
   "id": "b66554eb",
   "metadata": {},
   "outputs": [
    {
     "name": "stdout",
     "output_type": "stream",
     "text": [
      "Balanced embeddings shape: (10552, 64)\n",
      "Balanced TCP Star Targets shape: (10552,)\n"
     ]
    }
   ],
   "source": [
    "# Upsampling the errors to create a balanced batch \n",
    "\n",
    "# Select indices\n",
    "correct_idx = np.where(y_hat == y_true_class)[0]\n",
    "error_idx = np.where(y_hat != y_true_class)[0]\n",
    "\n",
    "# You can duplicate errors to balance them\n",
    "n_errors = len(error_idx)\n",
    "n_correct = len(correct_idx)\n",
    "upsample_errors = np.random.choice(error_idx, size=n_correct, replace=True)\n",
    "\n",
    "balanced_idx = np.concatenate([correct_idx, upsample_errors])\n",
    "np.random.shuffle(balanced_idx)\n",
    "\n",
    "X_balanced = embeddings[balanced_idx]\n",
    "y_balanced = tcp_star_targets[balanced_idx]\n",
    "print(\"Balanced embeddings shape:\", X_balanced.shape)\n",
    "print(\"Balanced TCP Star Targets shape:\", y_balanced.shape)"
   ]
  },
  {
   "cell_type": "code",
   "execution_count": 16,
   "id": "c4e8edb5",
   "metadata": {},
   "outputs": [
    {
     "data": {
      "text/plain": [
       "426"
      ]
     },
     "execution_count": 16,
     "metadata": {},
     "output_type": "execute_result"
    }
   ],
   "source": [
    "n_errors\n"
   ]
  },
  {
   "cell_type": "code",
   "execution_count": null,
   "id": "84bfb995",
   "metadata": {},
   "outputs": [
    {
     "name": "stdout",
     "output_type": "stream",
     "text": [
      "Number of correct predictions: 5276\n",
      "Number of errors: 426\n"
     ]
    }
   ],
   "source": [
    "n_errors = len(error_idx)\n",
    "print(\"Number of correct predictions:\", len(correct_idx))\n",
    "print(\"Number of errors:\", n_errors)"
   ]
  },
  {
   "cell_type": "code",
   "execution_count": null,
   "id": "88904aab",
   "metadata": {},
   "outputs": [],
   "source": [
    "X=X_balanced\n",
    "y=y_balanced"
   ]
  },
  {
   "cell_type": "code",
   "execution_count": null,
   "id": "99cac17a",
   "metadata": {},
   "outputs": [],
   "source": []
  },
  {
   "cell_type": "code",
   "execution_count": null,
   "id": "0398d798",
   "metadata": {},
   "outputs": [],
   "source": [
    "from sklearn.model_selection import train_test_split\n",
    "\n",
    "# 80% for training, 20% for validation\n",
    "X_train, X_val, y_train, y_val = train_test_split(\n",
    "    X, y, test_size=0.2, random_state=42\n",
    ")\n"
   ]
  },
  {
   "cell_type": "code",
   "execution_count": null,
   "id": "0d88d863",
   "metadata": {},
   "outputs": [],
   "source": [
    "import torch.nn as nn\n",
    "\n",
    "class ConfidenceNet(nn.Module):\n",
    "    def __init__(self, input_dim):\n",
    "        super(ConfidenceNet, self).__init__()\n",
    "        self.net = nn.Sequential(\n",
    "            nn.Linear(input_dim, 256),\n",
    "            nn.BatchNorm1d(256),\n",
    "            nn.ReLU(),\n",
    "            \n",
    "\n",
    "            nn.Linear(256, 128),\n",
    "            nn.BatchNorm1d(128),\n",
    "            nn.ReLU(),\n",
    "            \n",
    "\n",
    "            nn.Linear(128, 64),\n",
    "            nn.ReLU(),\n",
    "\n",
    "            nn.Linear(64, 1),\n",
    "            nn.Sigmoid()\n",
    "        )\n",
    "\n",
    "    def forward(self, x):\n",
    "        return self.net(x).squeeze(-1)\n"
   ]
  },
  {
   "cell_type": "code",
   "execution_count": null,
   "id": "4ee474d8",
   "metadata": {},
   "outputs": [
    {
     "name": "stdout",
     "output_type": "stream",
     "text": [
      "Epoch 01 | Train Loss: 0.135740 | Val Loss: 0.117792\n",
      "Epoch 02 | Train Loss: 0.112079 | Val Loss: 0.110529\n",
      "Epoch 03 | Train Loss: 0.102220 | Val Loss: 0.103487\n",
      "Epoch 04 | Train Loss: 0.097548 | Val Loss: 0.093767\n",
      "Epoch 05 | Train Loss: 0.089997 | Val Loss: 0.086024\n",
      "Epoch 06 | Train Loss: 0.085726 | Val Loss: 0.087184\n",
      "Epoch 07 | Train Loss: 0.079362 | Val Loss: 0.077662\n",
      "Epoch 08 | Train Loss: 0.075673 | Val Loss: 0.084761\n",
      "Epoch 09 | Train Loss: 0.072958 | Val Loss: 0.073931\n",
      "Epoch 10 | Train Loss: 0.066770 | Val Loss: 0.071932\n",
      "Epoch 11 | Train Loss: 0.063476 | Val Loss: 0.070540\n",
      "Epoch 12 | Train Loss: 0.058992 | Val Loss: 0.072209\n",
      "Epoch 13 | Train Loss: 0.060129 | Val Loss: 0.077239\n",
      "Epoch 14 | Train Loss: 0.054673 | Val Loss: 0.055773\n",
      "Epoch 15 | Train Loss: 0.051450 | Val Loss: 0.068324\n",
      "Epoch 16 | Train Loss: 0.049812 | Val Loss: 0.065520\n",
      "Epoch 17 | Train Loss: 0.047973 | Val Loss: 0.060243\n",
      "Epoch 18 | Train Loss: 0.044149 | Val Loss: 0.055861\n",
      "Epoch 19 | Train Loss: 0.042453 | Val Loss: 0.055844\n",
      "Epoch 20 | Train Loss: 0.041384 | Val Loss: 0.053469\n",
      "Epoch 21 | Train Loss: 0.041833 | Val Loss: 0.053176\n",
      "Epoch 22 | Train Loss: 0.035776 | Val Loss: 0.049414\n",
      "Epoch 23 | Train Loss: 0.036199 | Val Loss: 0.050921\n",
      "Epoch 24 | Train Loss: 0.035546 | Val Loss: 0.047671\n",
      "Epoch 25 | Train Loss: 0.030763 | Val Loss: 0.043188\n",
      "Epoch 26 | Train Loss: 0.029852 | Val Loss: 0.050351\n",
      "Epoch 27 | Train Loss: 0.032529 | Val Loss: 0.051510\n",
      "Epoch 28 | Train Loss: 0.031230 | Val Loss: 0.048056\n",
      "Epoch 29 | Train Loss: 0.028463 | Val Loss: 0.043416\n",
      "Epoch 30 | Train Loss: 0.029784 | Val Loss: 0.050983\n",
      "Epoch 31 | Train Loss: 0.029992 | Val Loss: 0.041422\n",
      "Epoch 32 | Train Loss: 0.028595 | Val Loss: 0.049912\n",
      "Epoch 33 | Train Loss: 0.023550 | Val Loss: 0.046981\n",
      "Epoch 34 | Train Loss: 0.025717 | Val Loss: 0.041912\n",
      "Epoch 35 | Train Loss: 0.027573 | Val Loss: 0.042301\n",
      "Epoch 36 | Train Loss: 0.025613 | Val Loss: 0.035957\n",
      "Epoch 37 | Train Loss: 0.024115 | Val Loss: 0.034417\n",
      "Epoch 38 | Train Loss: 0.022127 | Val Loss: 0.037187\n",
      "Epoch 39 | Train Loss: 0.023143 | Val Loss: 0.038689\n",
      "Epoch 40 | Train Loss: 0.023189 | Val Loss: 0.039602\n",
      "Epoch 41 | Train Loss: 0.021392 | Val Loss: 0.037977\n",
      "Epoch 42 | Train Loss: 0.020721 | Val Loss: 0.038773\n",
      "Epoch 43 | Train Loss: 0.020482 | Val Loss: 0.039382\n",
      "Epoch 44 | Train Loss: 0.017991 | Val Loss: 0.040938\n",
      "Epoch 45 | Train Loss: 0.020576 | Val Loss: 0.037230\n",
      "Epoch 46 | Train Loss: 0.017113 | Val Loss: 0.042844\n",
      "Epoch 47 | Train Loss: 0.018033 | Val Loss: 0.040435\n",
      "Epoch 48 | Train Loss: 0.019265 | Val Loss: 0.034535\n",
      "Epoch 49 | Train Loss: 0.017394 | Val Loss: 0.040502\n",
      "Epoch 50 | Train Loss: 0.018412 | Val Loss: 0.037776\n",
      "Epoch 51 | Train Loss: 0.015096 | Val Loss: 0.033314\n",
      "Epoch 52 | Train Loss: 0.014076 | Val Loss: 0.035187\n",
      "Epoch 53 | Train Loss: 0.014077 | Val Loss: 0.031485\n",
      "Epoch 54 | Train Loss: 0.014925 | Val Loss: 0.037201\n",
      "Epoch 55 | Train Loss: 0.018407 | Val Loss: 0.039929\n",
      "Epoch 56 | Train Loss: 0.017096 | Val Loss: 0.031876\n",
      "Epoch 57 | Train Loss: 0.014473 | Val Loss: 0.037478\n",
      "Epoch 58 | Train Loss: 0.016071 | Val Loss: 0.039682\n",
      "Epoch 59 | Train Loss: 0.014011 | Val Loss: 0.033595\n",
      "Epoch 60 | Train Loss: 0.011429 | Val Loss: 0.035511\n"
     ]
    }
   ],
   "source": [
    "import torch\n",
    "from torch.utils.data import DataLoader, TensorDataset\n",
    "from torch.optim import Adam\n",
    "from torch.optim import AdamW\n",
    "\n",
    "X_train_tensor = torch.tensor(X_train, dtype=torch.float32)\n",
    "y_train_tensor = torch.tensor(y_train, dtype=torch.float32)\n",
    "\n",
    "X_val_tensor = torch.tensor(X_val, dtype=torch.float32)\n",
    "y_val_tensor = torch.tensor(y_val, dtype=torch.float32)\n",
    "\n",
    "train_dataset= TensorDataset(X_train_tensor, y_train_tensor)\n",
    "val_dataset = TensorDataset(X_val_tensor, y_val_tensor)\n",
    "\n",
    "train_loader = DataLoader(train_dataset, batch_size=64, shuffle=True)\n",
    "val_loader = DataLoader(val_dataset, batch_size=64, shuffle=False)\n",
    "\n",
    "input_dim = X_train.shape[1]\n",
    "output_dim = 1\n",
    "model = ConfidenceNet(input_dim)\n",
    "optimizer = AdamW(model.parameters(), lr=1e-3, weight_decay=1e-2)\n",
    "criterion = nn.MSELoss()\n",
    "\n",
    "# Training the model\n",
    "for epoch in range(60):\n",
    "    model.train()\n",
    "    train_losses=[]\n",
    "    for xb, yb in train_loader:\n",
    "        pred=model(xb)\n",
    "        loss = criterion(pred, yb)\n",
    "        optimizer.zero_grad()\n",
    "        loss.backward()\n",
    "        optimizer.step()\n",
    "        train_losses.append(loss.item())\n",
    "    \n",
    "    model.eval()\n",
    "    val_losses = []\n",
    "    with torch.no_grad():\n",
    "        for xb, yb in val_loader:\n",
    "            pred = model(xb)\n",
    "            loss = criterion(pred, yb)\n",
    "            val_losses.append(loss.item())\n",
    "\n",
    "    print(f\"Epoch {epoch+1:02d} | Train Loss: {sum(train_losses)/len(train_losses):.6f} | \"\n",
    "          f\"Val Loss: {sum(val_losses)/len(val_losses):.6f}\")"
   ]
  },
  {
   "cell_type": "code",
   "execution_count": null,
   "id": "e1b78653",
   "metadata": {},
   "outputs": [
    {
     "name": "stdout",
     "output_type": "stream",
     "text": [
      "Confidence scores shape: (5702,)\n"
     ]
    }
   ],
   "source": [
    "model.eval()\n",
    "with torch.no_grad():\n",
    "    X_test_tensor = torch.tensor(embeddings, dtype=torch.float32)\n",
    "    confidence_scores_tcpr = model(X_test_tensor).numpy()  # shape: (5702,)\n",
    "print(\"Confidence scores shape:\", confidence_scores_tcpr.shape) #score from the final sigmoid layer"
   ]
  },
  {
   "cell_type": "code",
   "execution_count": null,
   "id": "527ed852",
   "metadata": {},
   "outputs": [
    {
     "name": "stdout",
     "output_type": "stream",
     "text": [
      "Min value in confidence scores: 0.00038200538\n",
      "Max value in confidence scores: 1.0\n"
     ]
    }
   ],
   "source": [
    "#min and max values of confidence scores\n",
    "print(\"Min value in confidence scores:\", np.min(confidence_scores_tcpr))\n",
    "print(\"Max value in confidence scores:\", np.max(confidence_scores_tcpr))"
   ]
  },
  {
   "cell_type": "code",
   "execution_count": null,
   "id": "42807b09",
   "metadata": {},
   "outputs": [
    {
     "data": {
      "image/png": "[encoded data removed]",
      "text/plain": [
       "<Figure size 1000x700 with 1 Axes>"
      ]
     },
     "metadata": {},
     "output_type": "display_data"
    }
   ],
   "source": [
    "import matplotlib.pyplot as plt\n",
    "from sklearn.preprocessing import LabelEncoder\n",
    "label_encoder = LabelEncoder()\n",
    "y_labels_int = label_encoder.fit_transform(y_labels)\n",
    "is_correct = (y_hat == y_true_class)\n",
    "success_confidences = confidence_scores_tcpr[is_correct]\n",
    "error_confidences = confidence_scores_tcpr[~is_correct]\n",
    "\n",
    "plt.figure(figsize=(10, 7))\n",
    "# bins = np.linspace(0, 1, 50)\n",
    "# plt.hist(success_confidences, bins=bins, alpha=0.7, label='Success', color='green')\n",
    "# plt.hist(error_confidences, bins=bins, alpha=0.7, label='Error', color='red')\n",
    "\n",
    "plt.hist(success_confidences, bins=30, alpha=0.7, label='Successes (Correct Predictions)', color='green')\n",
    "plt.hist(error_confidences, bins=15, alpha=0.8, label='Errors (Incorrect Predictions)', color='red')\n",
    "plt.xlabel('Predicted Confidence Score', fontsize=12)\n",
    "plt.ylabel('Number of Samples', fontsize=12)\n",
    "plt.title('Confidence Score Distribution', fontsize=14)\n",
    "plt.legend()\n",
    "plt.grid(axis='y', alpha=0.5)\n",
    "plt.show()\n",
    "\n"
   ]
  },
  {
   "cell_type": "code",
   "execution_count": null,
   "id": "e151753c",
   "metadata": {},
   "outputs": [
    {
     "name": "stdout",
     "output_type": "stream",
     "text": [
      "ECE for Your Learned Confidence Model (TCP*): 418.3150\n"
     ]
    }
   ],
   "source": [
    "ece_confidnet= compute_ECE(confidence_scores_tcpr, y_hat, y_labels_int)\n",
    "print(f\"ECE for Your Learned Confidence Model (TCP*): {ece_confidnet:.4f}\")"
   ]
  },
  {
   "cell_type": "code",
   "execution_count": null,
   "id": "84f41aa4",
   "metadata": {},
   "outputs": [
    {
     "name": "stdout",
     "output_type": "stream",
     "text": [
      "--- Baseline Performance (All 5702 Samples) ---\n",
      "                precision    recall  f1-score   support\n",
      "\n",
      "      Bhairavi       0.91      0.96      0.93       220\n",
      "         Bihag       0.89      0.95      0.92       655\n",
      "           Des       0.83      0.78      0.80       150\n",
      "           Jog       0.97      0.97      0.97       685\n",
      "         Kedar       0.91      0.93      0.92       389\n",
      "        Khamaj       0.75      0.79      0.77       198\n",
      "      Malkauns       0.98      0.97      0.98       560\n",
      "   Maru_bihaag       0.90      0.84      0.87       633\n",
      " Nayaki_kanada       0.98      0.97      0.97       499\n",
      "Shuddha_kalyan       0.96      0.92      0.94       721\n",
      "         Sohni       0.93      0.94      0.94       331\n",
      "         Yaman       0.90      0.92      0.91       661\n",
      "\n",
      "      accuracy                           0.93      5702\n",
      "     macro avg       0.91      0.91      0.91      5702\n",
      "  weighted avg       0.93      0.93      0.93      5702\n",
      "\n",
      "Overall Baseline Accuracy: 0.9253\n",
      "\n",
      "--- Performance on High-Confidence Samples (Threshold = 0.3) ---\n",
      "Kept 5286 of 5702 samples (92.70%) for evaluation.\n",
      "\n",
      "                precision    recall  f1-score   support\n",
      "\n",
      "      Bhairavi       0.99      0.99      0.99       211\n",
      "         Bihag       0.99      1.00      0.99       615\n",
      "           Des       0.96      0.91      0.93       127\n",
      "           Jog       1.00      0.99      0.99       665\n",
      "         Kedar       0.99      1.00      0.99       353\n",
      "        Khamaj       0.90      0.93      0.91       166\n",
      "      Malkauns       0.99      1.00      1.00       546\n",
      "   Maru_bihaag       0.98      0.99      0.98       527\n",
      " Nayaki_kanada       1.00      0.99      0.99       488\n",
      "Shuddha_kalyan       0.99      0.99      0.99       672\n",
      "         Sohni       1.00      0.99      0.99       312\n",
      "         Yaman       0.99      0.98      0.98       604\n",
      "\n",
      "      accuracy                           0.99      5286\n",
      "     macro avg       0.98      0.98      0.98      5286\n",
      "  weighted avg       0.99      0.99      0.99      5286\n",
      "\n",
      "Accuracy on Filtered Set: 0.9871\n"
     ]
    }
   ],
   "source": [
    "from sklearn.metrics import classification_report, accuracy_score\n",
    "\n",
    "# BASELINE performance on the ENTIRE dataset\n",
    "print(\"--- Baseline Performance (All 5702 Samples) ---\")\n",
    "print(classification_report(y_labels_int, y_hat, target_names=label_encoder.classes_))\n",
    "print(f\"Overall Baseline Accuracy: {accuracy_score(y_labels_int, y_hat):.4f}\\n\")\n",
    "\n",
    "#Choose a confidence threshold\n",
    "confidence_threshold = 0.3\n",
    "\n",
    "high_confidence_mask = (confidence_scores_tcpr >= confidence_threshold)\n",
    "\n",
    "filtered_y_true = y_labels_int[high_confidence_mask]\n",
    "filtered_y_pred = y_hat[high_confidence_mask]\n",
    "print(f\"--- Performance on High-Confidence Samples (Threshold = {confidence_threshold}) ---\")\n",
    "num_kept = len(filtered_y_true)\n",
    "num_total = len(y_labels_int)\n",
    "print(f\"Kept {num_kept} of {num_total} samples ({num_kept/num_total:.2%}) for evaluation.\\n\")\n",
    "\n",
    "if num_kept > 0:\n",
    "    print(classification_report(filtered_y_true, filtered_y_pred, target_names=label_encoder.classes_))\n",
    "    print(f\"Accuracy on Filtered Set: {accuracy_score(filtered_y_true, filtered_y_pred):.4f}\")\n",
    "else:\n",
    "    print(\"No samples remained after filtering with this threshold.\")"
   ]
  },
  {
   "cell_type": "markdown",
   "id": "f1608e16",
   "metadata": {},
   "source": [
    "### Using MCP"
   ]
  },
  {
   "cell_type": "code",
   "execution_count": null,
   "id": "224e8852",
   "metadata": {},
   "outputs": [
    {
     "data": {
      "image/png": "[encoded data removed]",
      "text/plain": [
       "<Figure size 1000x700 with 1 Axes>"
      ]
     },
     "metadata": {},
     "output_type": "display_data"
    }
   ],
   "source": [
    "import numpy as np\n",
    "import matplotlib.pyplot as plt\n",
    "from sklearn.metrics import classification_report, accuracy_score\n",
    "\n",
    "mcp_scores = np.max(probs, axis=1)\n",
    "is_correct = (y_hat == y_labels_int)\n",
    "mcp_success_confidences = mcp_scores[is_correct]\n",
    "mcp_error_confidences = mcp_scores[~is_correct]\n",
    "\n",
    "plt.figure(figsize=(10, 7))\n",
    "plt.hist(mcp_success_confidences, bins=30, alpha=0.7, label='Successes', color='green')\n",
    "plt.hist(mcp_error_confidences, bins=15, alpha=0.8, label='Errors', color='red')\n",
    "plt.title('MCP Confidence Distribution', fontsize=14)\n",
    "plt.xlabel('MCP Score', fontsize=12)\n",
    "plt.ylabel('Number of Samples', fontsize=12)\n",
    "plt.legend()\n",
    "plt.grid(axis='y', alpha=0.5)\n",
    "plt.show()\n"
   ]
  },
  {
   "cell_type": "code",
   "execution_count": null,
   "id": "50fecd6f",
   "metadata": {},
   "outputs": [
    {
     "name": "stdout",
     "output_type": "stream",
     "text": [
      "ECE for MCP Confidence Baseline: 342.9302\n"
     ]
    }
   ],
   "source": [
    "ece_mcp = compute_ECE(mcp_scores, y_hat, y_labels_int)\n",
    "print(f\"ECE for MCP Confidence Baseline: {ece_mcp:.4f}\")    "
   ]
  },
  {
   "cell_type": "markdown",
   "id": "fed746fb",
   "metadata": {},
   "source": [
    "### TCP"
   ]
  },
  {
   "cell_type": "code",
   "execution_count": null,
   "id": "fd897768",
   "metadata": {},
   "outputs": [
    {
     "name": "stdout",
     "output_type": "stream",
     "text": [
      "(5702,)\n"
     ]
    }
   ],
   "source": [
    "tcp_targets= p_y_star / p_y_hat\n",
    "print(tcp_targets.shape)"
   ]
  },
  {
   "cell_type": "code",
   "execution_count": null,
   "id": "bfdc4c0d",
   "metadata": {},
   "outputs": [
    {
     "data": {
      "image/png": "[encoded data removed]",
      "text/plain": [
       "<Figure size 640x480 with 1 Axes>"
      ]
     },
     "metadata": {},
     "output_type": "display_data"
    }
   ],
   "source": [
    "#plot histogram of tcp_star_targets\n",
    "import matplotlib.pyplot as plt\n",
    "plt.hist(tcp_targets, bins=50)\n",
    "plt.xlabel('TCP Targets')\n",
    "plt.ylabel('Frequency')\n",
    "plt.title('Histogram of TCP Targets')\n",
    "plt.show()"
   ]
  },
  {
   "cell_type": "code",
   "execution_count": null,
   "id": "d7513ecc",
   "metadata": {},
   "outputs": [
    {
     "data": {
      "image/png": "[encoded data removed]",
      "text/plain": [
       "<Figure size 1000x600 with 1 Axes>"
      ]
     },
     "metadata": {},
     "output_type": "display_data"
    }
   ],
   "source": [
    "# --- Plot histogram of TCP scores ---\n",
    "success_tcp = tcp_targets[is_correct]\n",
    "error_tcp = tcp_targets[~is_correct]\n",
    "\n",
    "plt.figure(figsize=(10, 6))\n",
    "bins = np.linspace(0, 1.5, 50)\n",
    "plt.hist(success_tcp, bins=bins, alpha=0.7, label='Correct (Success)', color='green')\n",
    "plt.hist(error_tcp, bins=bins, alpha=0.7, label='Incorrect (Error)', color='red')\n",
    "plt.xlabel(\"TCP Score\")\n",
    "plt.ylabel(\"Frequency\")\n",
    "plt.title(\"Simple TCP Score Distribution (No Alpha)\")\n",
    "plt.legend()\n",
    "plt.grid(True)\n",
    "plt.tight_layout()\n",
    "plt.show()"
   ]
  },
  {
   "cell_type": "code",
   "execution_count": null,
   "id": "c8bf239d",
   "metadata": {},
   "outputs": [
    {
     "name": "stdout",
     "output_type": "stream",
     "text": [
      "ECE for Simple TCP: 2996.7087\n"
     ]
    }
   ],
   "source": [
    "ece_tcp = compute_ECE(tcp_targets, y_hat, y_labels_int)\n",
    "print(f\"ECE for Simple TCP: {ece_tcp:.4f}\")"
   ]
  },
  {
   "cell_type": "markdown",
   "id": "a3c9aca3",
   "metadata": {},
   "source": [
    "# 2. TCP with MSE + FDS + LDS"
   ]
  },
  {
   "cell_type": "code",
   "execution_count": null,
   "id": "1776af04",
   "metadata": {},
   "outputs": [
    {
     "data": {
      "image/png": "[encoded data removed]",
      "text/plain": [
       "<Figure size 1200x600 with 1 Axes>"
      ]
     },
     "metadata": {},
     "output_type": "display_data"
    }
   ],
   "source": [
    "import numpy as np\n",
    "\n",
    "import matplotlib.pyplot as plt\n",
    "\n",
    "# Count samples per class\n",
    "unique_classes, class_counts = np.unique(y_labels, return_counts=True)\n",
    "\n",
    "plt.figure(figsize=(12, 6))\n",
    "plt.bar(unique_classes, class_counts)\n",
    "plt.xlabel('Class')\n",
    "plt.ylabel('Number of Samples')\n",
    "plt.title('Number of Samples per Class')\n",
    "plt.xticks(rotation=90)\n",
    "plt.tight_layout()\n",
    "plt.show()"
   ]
  },
  {
   "cell_type": "code",
   "execution_count": null,
   "id": "28a87adf",
   "metadata": {},
   "outputs": [
    {
     "data": {
      "text/plain": [
       "(10552,)"
      ]
     },
     "execution_count": 179,
     "metadata": {},
     "output_type": "execute_result"
    }
   ],
   "source": [
    "y_balanced.shape #this is my continuous target for the confidnet"
   ]
  },
  {
   "cell_type": "code",
   "execution_count": null,
   "id": "f81418e7",
   "metadata": {},
   "outputs": [],
   "source": [
    "from scipy.stats import gaussian_kde # For Kernel Density Estimation\n",
    "kde = gaussian_kde(y_train, bw_method=0.01) # 'silverman' is a common default\n",
    "\n",
    "# For each y_train sample, get its estimated density\n",
    "sample_densities = kde.evaluate(y_train)\n",
    "\n",
    "# Ensure no zero densities (or very tiny) to avoid division by zero\n",
    "sample_densities = np.maximum(sample_densities, 1e-6)\n",
    "weights = 1.0 / sample_densities"
   ]
  },
  {
   "cell_type": "code",
   "execution_count": null,
   "id": "33f44462",
   "metadata": {},
   "outputs": [
    {
     "data": {
      "image/png": "[encoded data removed]",
      "text/plain": [
       "<Figure size 1000x600 with 1 Axes>"
      ]
     },
     "metadata": {},
     "output_type": "display_data"
    }
   ],
   "source": [
    "# After calculating kde = gaussian_kde(y_train, bw_method='silverman')\n",
    "# Create a range of x values to evaluate the KDE\n",
    "x_plot = np.linspace(0, 1, 500)\n",
    "density_values = kde.evaluate(x_plot)\n",
    "\n",
    "plt.figure(figsize=(10, 6))\n",
    "plt.hist(y_train, bins=50, density=True, alpha=0.6, label='y_train Histogram')\n",
    "plt.plot(x_plot, density_values, color='red', linestyle='--', label='KDE Density')\n",
    "plt.title('y_train Distribution with KDE')\n",
    "plt.xlabel('TCP Star Target')\n",
    "plt.ylabel('Density')\n",
    "plt.legend()\n",
    "plt.show()"
   ]
  },
  {
   "cell_type": "code",
   "execution_count": null,
   "id": "04e7d6ff",
   "metadata": {},
   "outputs": [
    {
     "name": "stdout",
     "output_type": "stream",
     "text": [
      "Min weight: 0.0610, Max weight: 8.3107, Mean weight: 1.0000\n"
     ]
    }
   ],
   "source": [
    "weights = weights / np.mean(weights)\n",
    "print(f\"Min weight: {np.min(weights):.4f}, Max weight: {np.max(weights):.4f}, Mean weight: {np.mean(weights):.4f}\")\n"
   ]
  },
  {
   "cell_type": "code",
   "execution_count": null,
   "id": "3ad73bd4",
   "metadata": {},
   "outputs": [],
   "source": [
    "weights_tensor = torch.tensor(weights, dtype=torch.float32)\n"
   ]
  },
  {
   "cell_type": "code",
   "execution_count": null,
   "id": "c1cde324",
   "metadata": {},
   "outputs": [],
   "source": [
    "model_2= ConfidenceNet(input_dim)"
   ]
  },
  {
   "cell_type": "code",
   "execution_count": null,
   "id": "f5a0392e",
   "metadata": {},
   "outputs": [],
   "source": [
    "train_dataset_wt = TensorDataset(X_train_tensor, y_train_tensor, weights_tensor) # Include weights\n",
    "train_loader_wt = DataLoader(train_dataset_wt, batch_size=64, shuffle=True)\n"
   ]
  },
  {
   "cell_type": "code",
   "execution_count": null,
   "id": "4d9acd39",
   "metadata": {},
   "outputs": [
    {
     "name": "stdout",
     "output_type": "stream",
     "text": [
      "Epoch 01 | Train Loss: 0.121425 | Val Loss: 0.209679\n",
      "Epoch 02 | Train Loss: 0.121441 | Val Loss: 0.209491\n",
      "Epoch 03 | Train Loss: 0.121400 | Val Loss: 0.209711\n",
      "Epoch 04 | Train Loss: 0.121222 | Val Loss: 0.209565\n",
      "Epoch 05 | Train Loss: 0.121283 | Val Loss: 0.209656\n",
      "Epoch 06 | Train Loss: 0.121401 | Val Loss: 0.209403\n",
      "Epoch 07 | Train Loss: 0.121263 | Val Loss: 0.209854\n",
      "Epoch 08 | Train Loss: 0.121464 | Val Loss: 0.210036\n",
      "Epoch 09 | Train Loss: 0.121316 | Val Loss: 0.209756\n",
      "Epoch 10 | Train Loss: 0.121232 | Val Loss: 0.209744\n",
      "Epoch 11 | Train Loss: 0.121295 | Val Loss: 0.209752\n",
      "Epoch 12 | Train Loss: 0.121369 | Val Loss: 0.209962\n",
      "Epoch 13 | Train Loss: 0.121340 | Val Loss: 0.209406\n",
      "Epoch 14 | Train Loss: 0.121349 | Val Loss: 0.209647\n",
      "Epoch 15 | Train Loss: 0.121374 | Val Loss: 0.210004\n",
      "Epoch 16 | Train Loss: 0.121361 | Val Loss: 0.209463\n",
      "Epoch 17 | Train Loss: 0.121359 | Val Loss: 0.209902\n",
      "Epoch 18 | Train Loss: 0.121392 | Val Loss: 0.209696\n",
      "Epoch 19 | Train Loss: 0.121366 | Val Loss: 0.209742\n",
      "Epoch 20 | Train Loss: 0.121226 | Val Loss: 0.209754\n",
      "Epoch 21 | Train Loss: 0.121469 | Val Loss: 0.209401\n",
      "Epoch 22 | Train Loss: 0.121498 | Val Loss: 0.209906\n",
      "Epoch 23 | Train Loss: 0.121320 | Val Loss: 0.209508\n",
      "Epoch 24 | Train Loss: 0.121455 | Val Loss: 0.209977\n",
      "Epoch 25 | Train Loss: 0.121337 | Val Loss: 0.209912\n",
      "Epoch 26 | Train Loss: 0.121398 | Val Loss: 0.209771\n",
      "Epoch 27 | Train Loss: 0.121382 | Val Loss: 0.209856\n",
      "Epoch 28 | Train Loss: 0.121392 | Val Loss: 0.209818\n",
      "Epoch 29 | Train Loss: 0.121059 | Val Loss: 0.209961\n",
      "Epoch 30 | Train Loss: 0.121366 | Val Loss: 0.209607\n",
      "Epoch 31 | Train Loss: 0.121350 | Val Loss: 0.209789\n",
      "Epoch 32 | Train Loss: 0.121425 | Val Loss: 0.209785\n",
      "Epoch 33 | Train Loss: 0.121396 | Val Loss: 0.209667\n",
      "Epoch 34 | Train Loss: 0.121305 | Val Loss: 0.210108\n",
      "Epoch 35 | Train Loss: 0.121376 | Val Loss: 0.209933\n",
      "Epoch 36 | Train Loss: 0.121314 | Val Loss: 0.209537\n",
      "Epoch 37 | Train Loss: 0.121429 | Val Loss: 0.209734\n",
      "Epoch 38 | Train Loss: 0.121344 | Val Loss: 0.209941\n",
      "Epoch 39 | Train Loss: 0.121233 | Val Loss: 0.209955\n",
      "Epoch 40 | Train Loss: 0.121494 | Val Loss: 0.209784\n",
      "Epoch 41 | Train Loss: 0.121343 | Val Loss: 0.209737\n",
      "Epoch 42 | Train Loss: 0.121239 | Val Loss: 0.209529\n",
      "Epoch 43 | Train Loss: 0.121373 | Val Loss: 0.209957\n",
      "Epoch 44 | Train Loss: 0.121490 | Val Loss: 0.209778\n",
      "Epoch 45 | Train Loss: 0.121225 | Val Loss: 0.209590\n",
      "Epoch 46 | Train Loss: 0.121333 | Val Loss: 0.209713\n",
      "Epoch 47 | Train Loss: 0.121218 | Val Loss: 0.209617\n",
      "Epoch 48 | Train Loss: 0.121287 | Val Loss: 0.209535\n",
      "Epoch 49 | Train Loss: 0.121266 | Val Loss: 0.209572\n",
      "Epoch 50 | Train Loss: 0.121461 | Val Loss: 0.209847\n",
      "Epoch 51 | Train Loss: 0.121287 | Val Loss: 0.209748\n",
      "Epoch 52 | Train Loss: 0.121144 | Val Loss: 0.209731\n",
      "Epoch 53 | Train Loss: 0.121341 | Val Loss: 0.209547\n",
      "Epoch 54 | Train Loss: 0.121396 | Val Loss: 0.209550\n",
      "Epoch 55 | Train Loss: 0.121111 | Val Loss: 0.209775\n",
      "Epoch 56 | Train Loss: 0.121304 | Val Loss: 0.209768\n",
      "Epoch 57 | Train Loss: 0.121524 | Val Loss: 0.209525\n",
      "Epoch 58 | Train Loss: 0.121368 | Val Loss: 0.209583\n",
      "Epoch 59 | Train Loss: 0.121366 | Val Loss: 0.209721\n",
      "Epoch 60 | Train Loss: 0.121213 | Val Loss: 0.209614\n"
     ]
    }
   ],
   "source": [
    "for epoch in range(60):\n",
    "    model_2.train()\n",
    "    train_losses = []\n",
    "    for xb, yb, wb in train_loader_wt: # Unpack weights from loader\n",
    "        pred = model_2(xb)\n",
    "        # Calculate weighted MSE loss\n",
    "        loss = torch.mean(wb * (pred - yb)**2) # Weighted Mean Squared Error\n",
    "        \n",
    "        optimizer.zero_grad()\n",
    "        loss.backward()\n",
    "        optimizer.step()\n",
    "        train_losses.append(loss.item())\n",
    "        \n",
    "    model_2.eval()\n",
    "    val_losses = []\n",
    "    with torch.no_grad():\n",
    "        for xb, yb in val_loader:\n",
    "            pred = model_2(xb)\n",
    "            loss = nn.MSELoss()(pred, yb) # Standard MSE for validation\n",
    "            val_losses.append(loss.item())\n",
    "\n",
    "    print(f\"Epoch {epoch+1:02d} | Train Loss: {sum(train_losses)/len(train_losses):.6f} | \"\n",
    "          f\"Val Loss: {sum(val_losses)/len(val_losses):.6f}\")\n"
   ]
  },
  {
   "cell_type": "code",
   "execution_count": null,
   "id": "419cfb44",
   "metadata": {},
   "outputs": [
    {
     "name": "stdout",
     "output_type": "stream",
     "text": [
      "Confidence scores shape: (5702,)\n"
     ]
    }
   ],
   "source": [
    "model_2.eval()\n",
    "with torch.no_grad():\n",
    "    X_test_tensor = torch.tensor(embeddings, dtype=torch.float32) # Using original `embeddings` for final confidence prediction\n",
    "    confidence_scores_2 = model_2(X_test_tensor).numpy()\n",
    "print(\"Confidence scores shape:\", confidence_scores_2.shape)\n"
   ]
  },
  {
   "cell_type": "code",
   "execution_count": null,
   "id": "045a35a1",
   "metadata": {},
   "outputs": [
    {
     "data": {
      "image/png": "[encoded data removed]",
      "text/plain": [
       "<Figure size 1000x700 with 1 Axes>"
      ]
     },
     "metadata": {},
     "output_type": "display_data"
    }
   ],
   "source": [
    "label_encoder = LabelEncoder()\n",
    "y_labels_int = label_encoder.fit_transform(y_labels) # Assuming y_labels is from the test set for this plot\n",
    "# You need y_true_class for the test set here, which corresponds to `embeddings`\n",
    "# If `y_true_class` (derived from `y_true`) is from the full dataset that `embeddings` also represents, then it's fine.\n",
    "# Otherwise, you need to load/derive true labels for the `embeddings` used here.\n",
    "is_correct = (y_hat == y_true_class) # y_hat and y_true_class must correspond to `embeddings` and `probs`\n",
    "success_confidences = confidence_scores_2[is_correct]\n",
    "error_confidences = confidence_scores_2[~is_correct]\n",
    "\n",
    "plt.figure(figsize=(10, 7))\n",
    "plt.hist(success_confidences, bins=30, alpha=0.7, label='Successes (Correct Predictions)', color='green')\n",
    "plt.hist(error_confidences, bins=15, alpha=0.8, label='Errors (Incorrect Predictions)', color='red')\n",
    "plt.xlabel('Predicted Confidence Score', fontsize=12)\n",
    "plt.ylabel('Number of Samples', fontsize=12)\n",
    "plt.title('Confidence Score Distribution', fontsize=14)\n",
    "plt.legend()\n",
    "plt.grid(axis='y', alpha=0.5)\n",
    "plt.show()"
   ]
  },
  {
   "cell_type": "code",
   "execution_count": null,
   "id": "dfad8ac0",
   "metadata": {},
   "outputs": [
    {
     "name": "stdout",
     "output_type": "stream",
     "text": [
      "ECE for Your Learned Confidence Model (TCP*): 6.3962\n"
     ]
    }
   ],
   "source": [
    "ece_confidnet= compute_ECE(confidence_scores_2, y_hat, y_labels_int)\n",
    "print(f\"ECE for Your Learned Confidence Model (TCP*): {ece_confidnet:.4f}\")"
   ]
  },
  {
   "cell_type": "markdown",
   "id": "82c7db0c",
   "metadata": {},
   "source": [
    "## Just using LDS\n"
   ]
  },
  {
   "cell_type": "code",
   "execution_count": null,
   "id": "a95e2432",
   "metadata": {},
   "outputs": [],
   "source": [
    "# Preprocessing\n",
    "\n",
    "import numpy as np\n",
    "import torch\n",
    "import torch.nn as nn\n",
    "import torch.nn.functional as F\n",
    "\n",
    "def compute_lds_weights(y, num_bins=40, kernel_sigma=2.0):\n",
    "    \n",
    "    bins = np.linspace(0, 1, num_bins + 1)\n",
    "    bin_ids = np.digitize(y, bins) - 1  # Bin index per sample\n",
    "    bin_ids = np.clip(bin_ids, 0, num_bins - 1)\n",
    "\n",
    "    counts = np.bincount(bin_ids, minlength=num_bins)\n",
    "\n",
    "    def gaussian_kernel(dist, sigma):\n",
    "        return np.exp(-0.5 * (dist / sigma) ** 0.5)\n",
    "\n",
    "    smoothed_counts = np.zeros_like(counts, dtype=np.float32)\n",
    "    for i in range(num_bins):\n",
    "        distances = np.arange(num_bins) - i\n",
    "        kernel = gaussian_kernel(distances, sigma=kernel_sigma)\n",
    "        kernel /= kernel.sum()\n",
    "        smoothed_counts[i] = (counts * kernel).sum()\n",
    "\n",
    "    # Assign inverse density weights to each sample\n",
    "    weights = 1.0 / (smoothed_counts[bin_ids] + 1e-6)\n",
    "    weights /= weights.mean()  # normalize to mean 1\n",
    "    return weights.astype(np.float32)\n"
   ]
  },
  {
   "cell_type": "code",
   "execution_count": null,
   "id": "32eec1f4",
   "metadata": {},
   "outputs": [
    {
     "name": "stderr",
     "output_type": "stream",
     "text": [
      "/var/folders/d4/bgr0tr5d43z2xmtq5hk3s4n00000gn/T/ipykernel_7449/3951256615.py:17: RuntimeWarning: invalid value encountered in sqrt\n",
      "  return np.exp(-0.5 * (dist / sigma) ** 0.5)\n"
     ]
    }
   ],
   "source": [
    "lds_weights = compute_lds_weights(y_train, num_bins=20, kernel_sigma=2.0)\n",
    "lds_weights_tensor = torch.tensor(lds_weights, dtype=torch.float32)"
   ]
  },
  {
   "cell_type": "code",
   "execution_count": null,
   "id": "bc4acb41",
   "metadata": {},
   "outputs": [
    {
     "data": {
      "text/plain": [
       "array([nan, nan, nan, ..., nan, nan, nan], dtype=float32)"
      ]
     },
     "execution_count": 192,
     "metadata": {},
     "output_type": "execute_result"
    }
   ],
   "source": [
    "lds_weights"
   ]
  },
  {
   "cell_type": "code",
   "execution_count": null,
   "id": "aefa0c61",
   "metadata": {},
   "outputs": [],
   "source": [
    "train_dataset_lds = TensorDataset(X_train_tensor, y_train_tensor, lds_weights_tensor)\n",
    "train_loader_wt = DataLoader(train_dataset_lds, batch_size=64, shuffle=True)"
   ]
  },
  {
   "cell_type": "code",
   "execution_count": null,
   "id": "48afd2fa",
   "metadata": {},
   "outputs": [],
   "source": [
    "model_for_lds=ConfidenceNet(input_dim)\n",
    "optimizer_for_lds = AdamW(model_for_lds.parameters(), lr=1e-3, weight_decay=1e-2)"
   ]
  },
  {
   "cell_type": "code",
   "execution_count": null,
   "id": "b7d6af65",
   "metadata": {},
   "outputs": [
    {
     "name": "stdout",
     "output_type": "stream",
     "text": [
      "Epoch 01 | Train Loss: nan | Val Loss: nan\n",
      "Epoch 02 | Train Loss: nan | Val Loss: nan\n",
      "Epoch 03 | Train Loss: nan | Val Loss: nan\n",
      "Epoch 04 | Train Loss: nan | Val Loss: nan\n",
      "Epoch 05 | Train Loss: nan | Val Loss: nan\n",
      "Epoch 06 | Train Loss: nan | Val Loss: nan\n",
      "Epoch 07 | Train Loss: nan | Val Loss: nan\n",
      "Epoch 08 | Train Loss: nan | Val Loss: nan\n",
      "Epoch 09 | Train Loss: nan | Val Loss: nan\n",
      "Epoch 10 | Train Loss: nan | Val Loss: nan\n",
      "Epoch 11 | Train Loss: nan | Val Loss: nan\n",
      "Epoch 12 | Train Loss: nan | Val Loss: nan\n",
      "Epoch 13 | Train Loss: nan | Val Loss: nan\n",
      "Epoch 14 | Train Loss: nan | Val Loss: nan\n",
      "Epoch 15 | Train Loss: nan | Val Loss: nan\n",
      "Epoch 16 | Train Loss: nan | Val Loss: nan\n",
      "Epoch 17 | Train Loss: nan | Val Loss: nan\n",
      "Epoch 18 | Train Loss: nan | Val Loss: nan\n",
      "Epoch 19 | Train Loss: nan | Val Loss: nan\n",
      "Epoch 20 | Train Loss: nan | Val Loss: nan\n",
      "Epoch 21 | Train Loss: nan | Val Loss: nan\n",
      "Epoch 22 | Train Loss: nan | Val Loss: nan\n",
      "Epoch 23 | Train Loss: nan | Val Loss: nan\n",
      "Epoch 24 | Train Loss: nan | Val Loss: nan\n",
      "Epoch 25 | Train Loss: nan | Val Loss: nan\n",
      "Epoch 26 | Train Loss: nan | Val Loss: nan\n",
      "Epoch 27 | Train Loss: nan | Val Loss: nan\n",
      "Epoch 28 | Train Loss: nan | Val Loss: nan\n",
      "Epoch 29 | Train Loss: nan | Val Loss: nan\n",
      "Epoch 30 | Train Loss: nan | Val Loss: nan\n",
      "Epoch 31 | Train Loss: nan | Val Loss: nan\n",
      "Epoch 32 | Train Loss: nan | Val Loss: nan\n",
      "Epoch 33 | Train Loss: nan | Val Loss: nan\n",
      "Epoch 34 | Train Loss: nan | Val Loss: nan\n",
      "Epoch 35 | Train Loss: nan | Val Loss: nan\n",
      "Epoch 36 | Train Loss: nan | Val Loss: nan\n",
      "Epoch 37 | Train Loss: nan | Val Loss: nan\n",
      "Epoch 38 | Train Loss: nan | Val Loss: nan\n",
      "Epoch 39 | Train Loss: nan | Val Loss: nan\n",
      "Epoch 40 | Train Loss: nan | Val Loss: nan\n",
      "Epoch 41 | Train Loss: nan | Val Loss: nan\n",
      "Epoch 42 | Train Loss: nan | Val Loss: nan\n",
      "Epoch 43 | Train Loss: nan | Val Loss: nan\n",
      "Epoch 44 | Train Loss: nan | Val Loss: nan\n",
      "Epoch 45 | Train Loss: nan | Val Loss: nan\n",
      "Epoch 46 | Train Loss: nan | Val Loss: nan\n",
      "Epoch 47 | Train Loss: nan | Val Loss: nan\n",
      "Epoch 48 | Train Loss: nan | Val Loss: nan\n",
      "Epoch 49 | Train Loss: nan | Val Loss: nan\n",
      "Epoch 50 | Train Loss: nan | Val Loss: nan\n",
      "Epoch 51 | Train Loss: nan | Val Loss: nan\n",
      "Epoch 52 | Train Loss: nan | Val Loss: nan\n",
      "Epoch 53 | Train Loss: nan | Val Loss: nan\n",
      "Epoch 54 | Train Loss: nan | Val Loss: nan\n",
      "Epoch 55 | Train Loss: nan | Val Loss: nan\n",
      "Epoch 56 | Train Loss: nan | Val Loss: nan\n",
      "Epoch 57 | Train Loss: nan | Val Loss: nan\n",
      "Epoch 58 | Train Loss: nan | Val Loss: nan\n",
      "Epoch 59 | Train Loss: nan | Val Loss: nan\n",
      "Epoch 60 | Train Loss: nan | Val Loss: nan\n"
     ]
    }
   ],
   "source": [
    "for epoch in range(60):\n",
    "    model_for_lds.train()\n",
    "    train_losses = []\n",
    "\n",
    "    for xb, yb, wb in train_loader_wt:  # get weights too\n",
    "        pred = model_for_lds(xb).squeeze()   # pred shape: (batch,)\n",
    "        loss = ((pred - yb) ** 2 * wb).mean()  # weighted MSE loss\n",
    "\n",
    "        optimizer_for_lds.zero_grad()\n",
    "        loss.backward()\n",
    "        optimizer_for_lds.step()\n",
    "        train_losses.append(loss.item())\n",
    "\n",
    "    model_for_lds.eval()\n",
    "    val_losses = []\n",
    "    with torch.no_grad():\n",
    "        for xb, yb in val_loader:\n",
    "            pred = model_for_lds(xb).squeeze()\n",
    "            loss = criterion(pred, yb)\n",
    "            val_losses.append(loss.item())\n",
    "\n",
    "    print(f\"Epoch {epoch+1:02d} | Train Loss: {sum(train_losses)/len(train_losses):.6f} | \"\n",
    "          f\"Val Loss: {sum(val_losses)/len(val_losses):.6f}\")"
   ]
  },
  {
   "cell_type": "code",
   "execution_count": null,
   "id": "ecf021ec",
   "metadata": {},
   "outputs": [
    {
     "name": "stdout",
     "output_type": "stream",
     "text": [
      "Confidence scores shape: [nan nan nan ... nan nan nan]\n"
     ]
    }
   ],
   "source": [
    "model_for_lds.eval()\n",
    "with torch.no_grad():\n",
    "    X_test_tensor = torch.tensor(embeddings, dtype=torch.float32)\n",
    "    confidence_scores_lds = model_for_lds(X_test_tensor).numpy()\n",
    "print(\"Confidence scores shape:\", confidence_scores_lds)"
   ]
  },
  {
   "cell_type": "code",
   "execution_count": null,
   "id": "b49806c9",
   "metadata": {},
   "outputs": [
    {
     "name": "stdout",
     "output_type": "stream",
     "text": [
      "No valid confidence scores to plot (all values are NaN).\n"
     ]
    },
    {
     "data": {
      "text/plain": [
       "<Figure size 1000x700 with 0 Axes>"
      ]
     },
     "metadata": {},
     "output_type": "display_data"
    }
   ],
   "source": [
    "import matplotlib.pyplot as plt\n",
    "from sklearn.preprocessing import LabelEncoder\n",
    "label_encoder = LabelEncoder()\n",
    "y_labels_int = label_encoder.fit_transform(y_labels)\n",
    "is_correct = (y_hat == y_true_class)\n",
    "success_confidences = confidence_scores_lds[is_correct]\n",
    "error_confidences = confidence_scores_lds[~is_correct]\n",
    "\n",
    "plt.figure(figsize=(10, 7))\n",
    "# bins = np.linspace(0, 1, 50)\n",
    "# plt.hist(success_confidences, bins=bins, alpha=0.7, label='Success', color='green')\n",
    "# plt.hist(error_confidences, bins=bins, alpha=0.7, label='Error', color='red')\n",
    "\n",
    "# Remove NaN values before plotting\n",
    "success_confidences_clean = success_confidences[~np.isnan(success_confidences)]\n",
    "error_confidences_clean = error_confidences[~np.isnan(error_confidences)]\n",
    "\n",
    "if len(success_confidences_clean) > 0 or len(error_confidences_clean) > 0:\n",
    "\tplt.hist(success_confidences_clean, bins=30, alpha=0.7, label='Successes (Correct Predictions)', color='green')\n",
    "\tplt.hist(error_confidences_clean, bins=15, alpha=0.8, label='Errors (Incorrect Predictions)', color='red')\n",
    "\tplt.xlabel('Predicted Confidence Score', fontsize=12)\n",
    "\tplt.ylabel('Number of Samples', fontsize=12)\n",
    "\tplt.title('Confidence Score Distribution', fontsize=14)\n",
    "\tplt.legend()\n",
    "\tplt.grid(axis='y', alpha=0.5)\n",
    "\tplt.show()\n",
    "else:\n",
    "\tprint(\"No valid confidence scores to plot (all values are NaN).\")\n",
    "\n"
   ]
  },
  {
   "cell_type": "code",
   "execution_count": null,
   "id": "2147c248",
   "metadata": {},
   "outputs": [
    {
     "name": "stdout",
     "output_type": "stream",
     "text": [
      "ECE for Your Learned Confidence Model (TCP*): 0.0000\n"
     ]
    }
   ],
   "source": [
    "ece_confidnet_lds= compute_ECE(confidence_scores_lds, y_hat, y_labels_int)\n",
    "print(f\"ECE for Your Learned Confidence Model (TCP*): {ece_confidnet_lds:.4f}\")"
   ]
  },
  {
   "cell_type": "markdown",
   "id": "ed5e2aca",
   "metadata": {},
   "source": [
    "## FDS+ LDS"
   ]
  },
  {
   "cell_type": "code",
   "execution_count": null,
   "id": "95272a6d",
   "metadata": {},
   "outputs": [],
   "source": [
    "num_bins = 40\n",
    "bins = np.linspace(0, 1, num_bins + 1)\n",
    "bin_ids = np.digitize(y_train, bins) - 1\n",
    "bin_ids = np.clip(bin_ids, 0, num_bins - 1)\n",
    "\n",
    "mu = torch.zeros(num_bins, X_train.shape[1])  # mean feature per bin\n",
    "var = torch.ones(num_bins, X_train.shape[1])  # variance per bin\n",
    "counts = torch.zeros(num_bins)\n",
    "\n",
    "def gaussian_kernel(dist, sigma=0.5):\n",
    "    return torch.exp(-0.5 * (dist / sigma) ** 2)"
   ]
  },
  {
   "cell_type": "code",
   "execution_count": null,
   "id": "4ac9f606",
   "metadata": {},
   "outputs": [],
   "source": [
    "model_fds_and_lds = ConfidenceNet(input_dim)"
   ]
  },
  {
   "cell_type": "code",
   "execution_count": null,
   "id": "806cf251",
   "metadata": {},
   "outputs": [
    {
     "name": "stdout",
     "output_type": "stream",
     "text": [
      "Epoch 01 | Train Loss: nan | Val Loss: 0.207111\n",
      "Epoch 02 | Train Loss: nan | Val Loss: 0.207250\n",
      "Epoch 03 | Train Loss: nan | Val Loss: 0.207039\n",
      "Epoch 04 | Train Loss: nan | Val Loss: 0.207338\n",
      "Epoch 05 | Train Loss: nan | Val Loss: 0.207230\n",
      "Epoch 06 | Train Loss: nan | Val Loss: 0.206891\n",
      "Epoch 07 | Train Loss: nan | Val Loss: 0.207156\n",
      "Epoch 08 | Train Loss: nan | Val Loss: 0.206908\n",
      "Epoch 09 | Train Loss: nan | Val Loss: 0.206680\n",
      "Epoch 10 | Train Loss: nan | Val Loss: 0.207343\n",
      "Epoch 11 | Train Loss: nan | Val Loss: 0.206998\n",
      "Epoch 12 | Train Loss: nan | Val Loss: 0.207118\n",
      "Epoch 13 | Train Loss: nan | Val Loss: 0.207222\n",
      "Epoch 14 | Train Loss: nan | Val Loss: 0.207095\n",
      "Epoch 15 | Train Loss: nan | Val Loss: 0.207593\n",
      "Epoch 16 | Train Loss: nan | Val Loss: 0.207251\n",
      "Epoch 17 | Train Loss: nan | Val Loss: 0.206739\n",
      "Epoch 18 | Train Loss: nan | Val Loss: 0.206975\n",
      "Epoch 19 | Train Loss: nan | Val Loss: 0.207224\n",
      "Epoch 20 | Train Loss: nan | Val Loss: 0.206936\n",
      "Epoch 21 | Train Loss: nan | Val Loss: 0.206907\n",
      "Epoch 22 | Train Loss: nan | Val Loss: 0.207133\n",
      "Epoch 23 | Train Loss: nan | Val Loss: 0.206919\n",
      "Epoch 24 | Train Loss: nan | Val Loss: 0.207237\n",
      "Epoch 25 | Train Loss: nan | Val Loss: 0.207277\n",
      "Epoch 26 | Train Loss: nan | Val Loss: 0.207075\n",
      "Epoch 27 | Train Loss: nan | Val Loss: 0.206758\n",
      "Epoch 28 | Train Loss: nan | Val Loss: 0.206854\n",
      "Epoch 29 | Train Loss: nan | Val Loss: 0.207038\n",
      "Epoch 30 | Train Loss: nan | Val Loss: 0.207066\n",
      "Epoch 31 | Train Loss: nan | Val Loss: 0.207062\n",
      "Epoch 32 | Train Loss: nan | Val Loss: 0.206884\n",
      "Epoch 33 | Train Loss: nan | Val Loss: 0.207219\n",
      "Epoch 34 | Train Loss: nan | Val Loss: 0.206899\n",
      "Epoch 35 | Train Loss: nan | Val Loss: 0.206941\n",
      "Epoch 36 | Train Loss: nan | Val Loss: 0.207260\n",
      "Epoch 37 | Train Loss: nan | Val Loss: 0.207424\n",
      "Epoch 38 | Train Loss: nan | Val Loss: 0.207283\n",
      "Epoch 39 | Train Loss: nan | Val Loss: 0.207196\n",
      "Epoch 40 | Train Loss: nan | Val Loss: 0.207433\n",
      "Epoch 41 | Train Loss: nan | Val Loss: 0.207413\n",
      "Epoch 42 | Train Loss: nan | Val Loss: 0.207627\n",
      "Epoch 43 | Train Loss: nan | Val Loss: 0.206965\n",
      "Epoch 44 | Train Loss: nan | Val Loss: 0.207079\n",
      "Epoch 45 | Train Loss: nan | Val Loss: 0.207092\n",
      "Epoch 46 | Train Loss: nan | Val Loss: 0.207709\n",
      "Epoch 47 | Train Loss: nan | Val Loss: 0.207303\n",
      "Epoch 48 | Train Loss: nan | Val Loss: 0.207049\n",
      "Epoch 49 | Train Loss: nan | Val Loss: 0.207293\n",
      "Epoch 50 | Train Loss: nan | Val Loss: 0.207115\n",
      "Epoch 51 | Train Loss: nan | Val Loss: 0.206839\n",
      "Epoch 52 | Train Loss: nan | Val Loss: 0.206964\n",
      "Epoch 53 | Train Loss: nan | Val Loss: 0.207296\n",
      "Epoch 54 | Train Loss: nan | Val Loss: 0.207322\n",
      "Epoch 55 | Train Loss: nan | Val Loss: 0.207263\n",
      "Epoch 56 | Train Loss: nan | Val Loss: 0.207287\n",
      "Epoch 57 | Train Loss: nan | Val Loss: 0.207003\n",
      "Epoch 58 | Train Loss: nan | Val Loss: 0.207173\n",
      "Epoch 59 | Train Loss: nan | Val Loss: 0.206840\n",
      "Epoch 60 | Train Loss: nan | Val Loss: 0.206876\n"
     ]
    }
   ],
   "source": [
    "for epoch in range(60):\n",
    "    model_fds_and_lds.train()\n",
    "    train_losses = []\n",
    "\n",
    "    # Update running stats for each bin\n",
    "    with torch.no_grad():\n",
    "        features = X_train_tensor  # assuming input itself is feature here\n",
    "        for b in range(num_bins):\n",
    "            idx = (torch.tensor(bin_ids) == b)\n",
    "            if idx.sum() == 0:\n",
    "                continue\n",
    "            feats_b = features[idx]\n",
    "            mu[b] = feats_b.mean(dim=0)\n",
    "            var[b] = feats_b.var(dim=0)\n",
    "            counts[b] = idx.sum()\n",
    "\n",
    "    # Apply Gaussian smoothing on stats\n",
    "    mu_smooth = torch.zeros_like(mu)\n",
    "    var_smooth = torch.zeros_like(var)\n",
    "\n",
    "    for b in range(num_bins):\n",
    "        distances = torch.arange(num_bins) - b\n",
    "        weights = gaussian_kernel(distances, sigma=2.0)\n",
    "        weights = weights / weights.sum()\n",
    "        mu_smooth[b] = (weights[:, None] * mu).sum(dim=0)\n",
    "        var_smooth[b] = (weights[:, None] * var).sum(dim=0)\n",
    "\n",
    "    # Training with FDS-normalized features\n",
    "    for xb, yb, wb in train_loader_wt:\n",
    "        # get bin index per sample\n",
    "        yb_bin = np.clip(np.digitize(yb.numpy(), bins) - 1, 0, num_bins - 1)\n",
    "        yb_bin = torch.from_numpy(yb_bin).long()\n",
    "        xb_fds = torch.zeros_like(xb)\n",
    "\n",
    "        for i in range(xb.shape[0]):\n",
    "            b = yb_bin[i]\n",
    "            mean_b = mu_smooth[b]\n",
    "            std_b = torch.sqrt(var_smooth[b] + 1e-6)\n",
    "            xb_fds[i] = (xb[i] - mean_b) / std_b  # normalize\n",
    "\n",
    "        pred = model_fds_and_lds(xb_fds)\n",
    "        loss = ((pred - yb) ** 2 * wb).mean()\n",
    "\n",
    "        optimizer.zero_grad()\n",
    "        loss.backward()\n",
    "        optimizer.step()\n",
    "        train_losses.append(loss.item())\n",
    "\n",
    "    model_fds_and_lds.eval()\n",
    "    val_losses = []\n",
    "    with torch.no_grad():\n",
    "        for xb, yb in val_loader:\n",
    "            pred = model_fds_and_lds(xb)\n",
    "            loss = criterion(pred, yb)\n",
    "            val_losses.append(loss.item())\n",
    "\n",
    "    print(f\"Epoch {epoch+1:02d} | Train Loss: {sum(train_losses)/len(train_losses):.6f} | \"\n",
    "          f\"Val Loss: {sum(val_losses)/len(val_losses):.6f}\")"
   ]
  },
  {
   "cell_type": "code",
   "execution_count": null,
   "id": "0452adf7",
   "metadata": {},
   "outputs": [
    {
     "name": "stdout",
     "output_type": "stream",
     "text": [
      "Confidence scores shape: (5702,)\n"
     ]
    }
   ],
   "source": [
    "model_fds_and_lds.eval()\n",
    "with torch.no_grad():\n",
    "    X_test_tensor = torch.tensor(embeddings, dtype=torch.float32)\n",
    "    confidence_scores_lds_fds = model_fds_and_lds(X_test_tensor).numpy()\n",
    "print(\"Confidence scores shape:\", confidence_scores_lds_fds.shape)"
   ]
  },
  {
   "cell_type": "code",
   "execution_count": null,
   "id": "592b1f3f",
   "metadata": {},
   "outputs": [
    {
     "data": {
      "image/png": "[encoded data removed]",
      "text/plain": [
       "<Figure size 1000x700 with 1 Axes>"
      ]
     },
     "metadata": {},
     "output_type": "display_data"
    }
   ],
   "source": [
    "import matplotlib.pyplot as plt\n",
    "from sklearn.preprocessing import LabelEncoder\n",
    "label_encoder = LabelEncoder()\n",
    "y_labels_int = label_encoder.fit_transform(y_labels)\n",
    "is_correct = (y_hat == y_true_class)\n",
    "success_confidences = confidence_scores_lds_fds[is_correct]\n",
    "error_confidences = confidence_scores_lds_fds[~is_correct]\n",
    "\n",
    "plt.figure(figsize=(10, 7))\n",
    "# bins = np.linspace(0, 1, 50)\n",
    "# plt.hist(success_confidences, bins=bins, alpha=0.7, label='Success', color='green')\n",
    "# plt.hist(error_confidences, bins=bins, alpha=0.7, label='Error', color='red')\n",
    "\n",
    "plt.hist(success_confidences, bins=30, alpha=0.7, label='Successes (Correct Predictions)', color='green')\n",
    "plt.hist(error_confidences, bins=15, alpha=0.8, label='Errors (Incorrect Predictions)', color='red')\n",
    "plt.xlabel('Predicted Confidence Score', fontsize=12)\n",
    "plt.ylabel('Number of Samples', fontsize=12)\n",
    "plt.title('Confidence Score Distribution', fontsize=14)\n",
    "plt.legend()\n",
    "plt.grid(axis='y', alpha=0.5)\n",
    "plt.show()\n",
    "\n"
   ]
  }
 ],
 "metadata": {
  "kernelspec": {
   "display_name": "jello",
   "language": "python",
   "name": "python3"
  },
  "language_info": {
   "codemirror_mode": {
    "name": "ipython",
    "version": 3
   },
   "file_extension": ".py",
   "mimetype": "text/x-python",
   "name": "python",
   "nbconvert_exporter": "python",
   "pygments_lexer": "ipython3",
   "version": "3.10.16"
  }
 },
 "nbformat": 4,
 "nbformat_minor": 5
}
