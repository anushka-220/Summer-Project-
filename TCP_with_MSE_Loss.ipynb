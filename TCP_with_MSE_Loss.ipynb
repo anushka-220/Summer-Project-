{
 "cells": [
  {
   "cell_type": "markdown",
   "id": "e4b525a8",
   "metadata": {},
   "source": [
    "## 1. TCP with MSE Loss"
   ]
  },
  {
   "cell_type": "code",
   "execution_count": 88,
   "id": "87186455",
   "metadata": {},
   "outputs": [
    {
     "name": "stdout",
     "output_type": "stream",
     "text": [
      "['test_embeddings', 'y_train', 'y_labels', 'audio_num', 'probs', 'audio_names']\n",
      "shape of embeddings: (5702, 64)\n",
      "shape of probs: (5702, 12)\n",
      "Shape of labels: (5702,)\n",
      "Shape of y_true: (5702, 12)\n"
     ]
    }
   ],
   "source": [
    "import numpy as np\n",
    "data = np.load('/Users/anushka/Documents/Summer-Project-/dataset/labeled_embeddings_probs_and_labels_v2.npz')\n",
    "#show the keys in the file\n",
    "print(data.files)\n",
    "embeddings = data['test_embeddings']\n",
    "print(\"shape of embeddings:\" , embeddings.shape)\n",
    "probs= data['probs']\n",
    "print(\"shape of probs:\", probs.shape)\n",
    "y_labels = data['y_labels']\n",
    "print(\"Shape of labels:\", y_labels.shape)\n",
    "y_true = data['y_train']\n",
    "print(\"Shape of y_true:\", y_true.shape)\n",
    "\n"
   ]
  },
  {
   "cell_type": "code",
   "execution_count": 89,
   "id": "3e552600",
   "metadata": {},
   "outputs": [
    {
     "name": "stdout",
     "output_type": "stream",
     "text": [
      "predicted class : [ 1 11  9 ... 11  9  1]\n",
      "predicted probabilities : [0.544058   0.97347754 0.7518662  ... 0.96628433 0.9899086  0.9475812 ]\n",
      "true class : [[0 0 0 ... 0 0 0]\n",
      " [0 0 0 ... 0 0 1]\n",
      " [0 0 0 ... 0 0 1]\n",
      " ...\n",
      " [0 0 0 ... 0 0 1]\n",
      " [0 0 0 ... 1 0 0]\n",
      " [0 1 0 ... 0 0 0]]\n",
      "true class probabilities : [0.4308202  0.97347754 0.23816009 ... 0.96628433 0.98990858 0.94758117]\n",
      "true class labels : [ 8 11 11 ... 11  9  1]\n"
     ]
    }
   ],
   "source": [
    "#Predicted class\n",
    "y_hat = np.argmax(probs, axis=1)\n",
    "print(\"predicted class :\", y_hat)\n",
    "#Prob of predicted class\n",
    "p_y_hat = np.max(probs, axis=1)\n",
    "print(\"predicted probabilities :\", p_y_hat)\n",
    "\n",
    "#True class one hot matrix\n",
    "y_star= y_true\n",
    "print(\"true class :\", y_star)\n",
    "#Prob of true class\n",
    "p_y_star = np.sum(probs * y_star, axis=1)\n",
    "print(\"true class probabilities :\", p_y_star)\n",
    "\n",
    "#True class labels\n",
    "y_true_class = np.argmax(y_true, axis=1) if y_true.ndim > 1 else y_true\n",
    "print(\"true class labels :\", y_true_class)\n"
   ]
  },
  {
   "cell_type": "code",
   "execution_count": 90,
   "id": "f92fb44e",
   "metadata": {},
   "outputs": [],
   "source": [
    "#Computing ECE\n",
    "def compute_ECE(confidences, predictions, labels, n_bins=15):\n",
    "    accuracies = (predictions == labels)\n",
    "\n",
    "    bin_boundaries = np.linspace(0.0, 1.0, n_bins + 1)\n",
    "    bin_lowers = bin_boundaries[:-1]\n",
    "    bin_uppers = bin_boundaries[1:]\n",
    "\n",
    "    ece = 0.0\n",
    "    total_samples = len(confidences)\n",
    "\n",
    "    for bin_lower, bin_upper in zip(bin_lowers, bin_uppers):\n",
    "        in_bin = np.logical_and(confidences > bin_lower, confidences <= bin_upper)\n",
    "        prop_in_bin = np.sum(in_bin) / total_samples\n",
    "\n",
    "        if np.sum(in_bin) > 0:\n",
    "            accuracy_in_bin = np.mean(accuracies[in_bin])\n",
    "            avg_confidence_in_bin = np.mean(confidences[in_bin])\n",
    "            ece += prop_in_bin * np.abs(avg_confidence_in_bin - accuracy_in_bin)\n",
    "\n",
    "    return ece\n"
   ]
  },
  {
   "cell_type": "markdown",
   "id": "bb5412c1",
   "metadata": {},
   "source": [
    "### Using TCPr"
   ]
  },
  {
   "cell_type": "code",
   "execution_count": 91,
   "id": "13bfa86a",
   "metadata": {},
   "outputs": [
    {
     "name": "stdout",
     "output_type": "stream",
     "text": [
      "tcp_star_targets shape: [0.33793047 1.         0.18461646 ... 1.         1.         1.        ]\n"
     ]
    }
   ],
   "source": [
    "def compute_tcp_star_targets(y_true_class, y_hat, p_y_star, p_y_hat, alpha):\n",
    "    indicator = (y_true_class != y_hat).astype(float)\n",
    "    numerator = p_y_star\n",
    "    denominator = p_y_hat + (indicator * (p_y_star + alpha))\n",
    "    tcp_star_targets = numerator / denominator\n",
    "    return tcp_star_targets\n",
    "\n",
    "tcp_star_targets = compute_tcp_star_targets(y_true_class, y_hat, p_y_star, p_y_hat, alpha=0.3)\n",
    "print(\"tcp_star_targets shape:\", tcp_star_targets)"
   ]
  },
  {
   "cell_type": "code",
   "execution_count": 92,
   "id": "1d3aecff",
   "metadata": {},
   "outputs": [
    {
     "data": {
      "image/png": "[encoded data removed]",
      "text/plain": [
       "<Figure size 640x480 with 1 Axes>"
      ]
     },
     "metadata": {},
     "output_type": "display_data"
    }
   ],
   "source": [
    "#plot histogram of tcp_star_targets\n",
    "import matplotlib.pyplot as plt\n",
    "plt.hist(tcp_star_targets, bins=50)\n",
    "plt.xlabel('TCP Star Targets')\n",
    "plt.ylabel('Frequency')\n",
    "plt.title('Histogram of TCP Star Targets')\n",
    "plt.show()"
   ]
  },
  {
   "cell_type": "code",
   "execution_count": 93,
   "id": "b66554eb",
   "metadata": {},
   "outputs": [
    {
     "name": "stdout",
     "output_type": "stream",
     "text": [
      "Balanced embeddings shape: (10552, 64)\n",
      "Balanced TCP Star Targets shape: (10552,)\n"
     ]
    }
   ],
   "source": [
    "# Upsampling the errors to create a balanced batch \n",
    "\n",
    "# Select indices\n",
    "correct_idx = np.where(y_hat == y_true_class)[0]\n",
    "error_idx = np.where(y_hat != y_true_class)[0]\n",
    "\n",
    "# You can duplicate errors to balance them\n",
    "n_errors = len(error_idx)\n",
    "n_correct = len(correct_idx)\n",
    "upsample_errors = np.random.choice(error_idx, size=n_correct, replace=True)\n",
    "\n",
    "balanced_idx = np.concatenate([correct_idx, upsample_errors])\n",
    "np.random.shuffle(balanced_idx)\n",
    "\n",
    "X_balanced = embeddings[balanced_idx]\n",
    "y_balanced = tcp_star_targets[balanced_idx]\n",
    "print(\"Balanced embeddings shape:\", X_balanced.shape)\n",
    "print(\"Balanced TCP Star Targets shape:\", y_balanced.shape)"
   ]
  },
  {
   "cell_type": "code",
   "execution_count": 94,
   "id": "c4e8edb5",
   "metadata": {},
   "outputs": [
    {
     "data": {
      "text/plain": [
       "5276"
      ]
     },
     "execution_count": 94,
     "metadata": {},
     "output_type": "execute_result"
    }
   ],
   "source": [
    "n_correct\n"
   ]
  },
  {
   "cell_type": "code",
   "execution_count": 95,
   "id": "88904aab",
   "metadata": {},
   "outputs": [],
   "source": [
    "X=X_balanced\n",
    "y=y_balanced"
   ]
  },
  {
   "cell_type": "code",
   "execution_count": 96,
   "id": "0398d798",
   "metadata": {},
   "outputs": [],
   "source": [
    "from sklearn.model_selection import train_test_split\n",
    "\n",
    "# 80% for training, 20% for validation\n",
    "X_train, X_val, y_train, y_val = train_test_split(\n",
    "    X, y, test_size=0.2, random_state=42\n",
    ")\n"
   ]
  },
  {
   "cell_type": "code",
   "execution_count": 97,
   "id": "0d88d863",
   "metadata": {},
   "outputs": [],
   "source": [
    "import torch.nn as nn\n",
    "\n",
    "class ConfidenceNet(nn.Module):\n",
    "    def __init__(self, input_dim):\n",
    "        super(ConfidenceNet, self).__init__()\n",
    "        self.net = nn.Sequential(\n",
    "            nn.Linear(input_dim, 256),\n",
    "            nn.BatchNorm1d(256),\n",
    "            nn.ReLU(),\n",
    "            \n",
    "\n",
    "            nn.Linear(256, 128),\n",
    "            nn.BatchNorm1d(128),\n",
    "            nn.ReLU(),\n",
    "            \n",
    "\n",
    "            nn.Linear(128, 64),\n",
    "            nn.ReLU(),\n",
    "\n",
    "            nn.Linear(64, 1),\n",
    "            nn.Sigmoid()\n",
    "        )\n",
    "\n",
    "    def forward(self, x):\n",
    "        return self.net(x).squeeze(-1)\n"
   ]
  },
  {
   "cell_type": "code",
   "execution_count": 98,
   "id": "00cb86ea",
   "metadata": {},
   "outputs": [],
   "source": [
    "# # Weighted Sampling to focus on errors \n",
    "# # Biasing sampling towards harder cases\n",
    "\n",
    "# import torch\n",
    "# from torch.utils.data import DataLoader, TensorDataset, WeightedRandomSampler\n",
    "\n",
    "# # Create sample weights: 1.0 for correct, 2.0 for errors\n",
    "# is_error = (y_hat != y_true_class).astype(float)\n",
    "# sample_weights = torch.tensor(1.0 + is_error, dtype=torch.float32)\n",
    "\n",
    "# # Weighted sampler\n",
    "# sampler = WeightedRandomSampler(weights=sample_weights,\n",
    "#                                  num_samples=len(sample_weights),\n",
    "#                                  replacement=True)\n"
   ]
  },
  {
   "cell_type": "code",
   "execution_count": 99,
   "id": "4ee474d8",
   "metadata": {},
   "outputs": [
    {
     "name": "stdout",
     "output_type": "stream",
     "text": [
      "Epoch 01 | Train Loss: 0.137590 | Val Loss: 0.120858\n",
      "Epoch 02 | Train Loss: 0.113611 | Val Loss: 0.111525\n",
      "Epoch 03 | Train Loss: 0.106594 | Val Loss: 0.097060\n",
      "Epoch 04 | Train Loss: 0.098373 | Val Loss: 0.103533\n",
      "Epoch 05 | Train Loss: 0.092172 | Val Loss: 0.091135\n",
      "Epoch 06 | Train Loss: 0.086110 | Val Loss: 0.082052\n",
      "Epoch 07 | Train Loss: 0.079241 | Val Loss: 0.079752\n",
      "Epoch 08 | Train Loss: 0.075294 | Val Loss: 0.089465\n",
      "Epoch 09 | Train Loss: 0.072760 | Val Loss: 0.076587\n",
      "Epoch 10 | Train Loss: 0.066409 | Val Loss: 0.075344\n",
      "Epoch 11 | Train Loss: 0.061032 | Val Loss: 0.070076\n",
      "Epoch 12 | Train Loss: 0.063292 | Val Loss: 0.068149\n",
      "Epoch 13 | Train Loss: 0.057076 | Val Loss: 0.057349\n",
      "Epoch 14 | Train Loss: 0.054498 | Val Loss: 0.066607\n",
      "Epoch 15 | Train Loss: 0.050093 | Val Loss: 0.054717\n",
      "Epoch 16 | Train Loss: 0.045951 | Val Loss: 0.056912\n",
      "Epoch 17 | Train Loss: 0.047281 | Val Loss: 0.059858\n",
      "Epoch 18 | Train Loss: 0.043998 | Val Loss: 0.055227\n",
      "Epoch 19 | Train Loss: 0.040127 | Val Loss: 0.061843\n",
      "Epoch 20 | Train Loss: 0.040855 | Val Loss: 0.057605\n",
      "Epoch 21 | Train Loss: 0.040893 | Val Loss: 0.054700\n",
      "Epoch 22 | Train Loss: 0.035975 | Val Loss: 0.044779\n",
      "Epoch 23 | Train Loss: 0.036964 | Val Loss: 0.048361\n",
      "Epoch 24 | Train Loss: 0.032961 | Val Loss: 0.043343\n",
      "Epoch 25 | Train Loss: 0.029997 | Val Loss: 0.044548\n",
      "Epoch 26 | Train Loss: 0.029598 | Val Loss: 0.043964\n",
      "Epoch 27 | Train Loss: 0.028537 | Val Loss: 0.045915\n",
      "Epoch 28 | Train Loss: 0.026530 | Val Loss: 0.042757\n",
      "Epoch 29 | Train Loss: 0.027884 | Val Loss: 0.036973\n",
      "Epoch 30 | Train Loss: 0.025203 | Val Loss: 0.045708\n",
      "Epoch 31 | Train Loss: 0.025687 | Val Loss: 0.040265\n",
      "Epoch 32 | Train Loss: 0.027790 | Val Loss: 0.043225\n",
      "Epoch 33 | Train Loss: 0.023349 | Val Loss: 0.030350\n",
      "Epoch 34 | Train Loss: 0.022078 | Val Loss: 0.035416\n",
      "Epoch 35 | Train Loss: 0.022152 | Val Loss: 0.041027\n",
      "Epoch 36 | Train Loss: 0.022286 | Val Loss: 0.039894\n",
      "Epoch 37 | Train Loss: 0.019617 | Val Loss: 0.031299\n",
      "Epoch 38 | Train Loss: 0.021738 | Val Loss: 0.038921\n",
      "Epoch 39 | Train Loss: 0.020071 | Val Loss: 0.034608\n",
      "Epoch 40 | Train Loss: 0.017990 | Val Loss: 0.034256\n",
      "Epoch 41 | Train Loss: 0.018676 | Val Loss: 0.035003\n",
      "Epoch 42 | Train Loss: 0.018562 | Val Loss: 0.035160\n",
      "Epoch 43 | Train Loss: 0.020483 | Val Loss: 0.032786\n",
      "Epoch 44 | Train Loss: 0.018907 | Val Loss: 0.036605\n",
      "Epoch 45 | Train Loss: 0.018812 | Val Loss: 0.030003\n",
      "Epoch 46 | Train Loss: 0.015666 | Val Loss: 0.033472\n",
      "Epoch 47 | Train Loss: 0.018847 | Val Loss: 0.031303\n",
      "Epoch 48 | Train Loss: 0.021223 | Val Loss: 0.025132\n",
      "Epoch 49 | Train Loss: 0.017035 | Val Loss: 0.034939\n",
      "Epoch 50 | Train Loss: 0.016765 | Val Loss: 0.039860\n"
     ]
    }
   ],
   "source": [
    "import torch\n",
    "from torch.utils.data import DataLoader, TensorDataset\n",
    "from torch.optim import Adam\n",
    "from torch.optim import AdamW\n",
    "\n",
    "X_train_tensor = torch.tensor(X_train, dtype=torch.float32)\n",
    "y_train_tensor = torch.tensor(y_train, dtype=torch.float32)\n",
    "\n",
    "X_val_tensor = torch.tensor(X_val, dtype=torch.float32)\n",
    "y_val_tensor = torch.tensor(y_val, dtype=torch.float32)\n",
    "\n",
    "train_dataset= TensorDataset(X_train_tensor, y_train_tensor)\n",
    "val_dataset = TensorDataset(X_val_tensor, y_val_tensor)\n",
    "\n",
    "train_loader = DataLoader(train_dataset, batch_size=64, shuffle=True)\n",
    "val_loader = DataLoader(val_dataset, batch_size=64, shuffle=False)\n",
    "\n",
    "input_dim = X_train.shape[1]\n",
    "output_dim = 1\n",
    "model = ConfidenceNet(input_dim)\n",
    "optimizer = AdamW(model.parameters(), lr=1e-3, weight_decay=1e-2)\n",
    "criterion = nn.MSELoss()\n",
    "\n",
    "# Training the model\n",
    "for epoch in range(50):\n",
    "    model.train()\n",
    "    train_losses=[]\n",
    "    for xb, yb in train_loader:\n",
    "        pred=model(xb)\n",
    "        loss = criterion(pred, yb)\n",
    "        optimizer.zero_grad()\n",
    "        loss.backward()\n",
    "        optimizer.step()\n",
    "        train_losses.append(loss.item())\n",
    "    \n",
    "    model.eval()\n",
    "    val_losses = []\n",
    "    with torch.no_grad():\n",
    "        for xb, yb in val_loader:\n",
    "            pred = model(xb)\n",
    "            loss = criterion(pred, yb)\n",
    "            val_losses.append(loss.item())\n",
    "\n",
    "    print(f\"Epoch {epoch+1:02d} | Train Loss: {sum(train_losses)/len(train_losses):.6f} | \"\n",
    "          f\"Val Loss: {sum(val_losses)/len(val_losses):.6f}\")"
   ]
  },
  {
   "cell_type": "code",
   "execution_count": 100,
   "id": "e1b78653",
   "metadata": {},
   "outputs": [
    {
     "name": "stdout",
     "output_type": "stream",
     "text": [
      "Confidence scores shape: (5702,)\n"
     ]
    }
   ],
   "source": [
    "model.eval()\n",
    "with torch.no_grad():\n",
    "    X_test_tensor = torch.tensor(embeddings, dtype=torch.float32)\n",
    "    confidence_scores_tcpr = model(X_test_tensor).numpy()  # shape: (5702,)\n",
    "print(\"Confidence scores shape:\", confidence_scores_tcpr.shape) #score from the final sigmoid layer"
   ]
  },
  {
   "cell_type": "code",
   "execution_count": 101,
   "id": "527ed852",
   "metadata": {},
   "outputs": [
    {
     "name": "stdout",
     "output_type": "stream",
     "text": [
      "Min value in confidence scores: 0.0004819048\n",
      "Max value in confidence scores: 1.0\n"
     ]
    }
   ],
   "source": [
    "#min and max values of confidence scores\n",
    "print(\"Min value in confidence scores:\", np.min(confidence_scores_tcpr))\n",
    "print(\"Max value in confidence scores:\", np.max(confidence_scores_tcpr))"
   ]
  },
  {
   "cell_type": "code",
   "execution_count": 102,
   "id": "42807b09",
   "metadata": {},
   "outputs": [
    {
     "data": {
      "image/png": "[encoded data removed]",
      "text/plain": [
       "<Figure size 1000x700 with 1 Axes>"
      ]
     },
     "metadata": {},
     "output_type": "display_data"
    }
   ],
   "source": [
    "import matplotlib.pyplot as plt\n",
    "from sklearn.preprocessing import LabelEncoder\n",
    "label_encoder = LabelEncoder()\n",
    "y_labels_int = label_encoder.fit_transform(y_labels)\n",
    "is_correct = (y_hat == y_true_class)\n",
    "success_confidences = confidence_scores_tcpr[is_correct]\n",
    "error_confidences = confidence_scores_tcpr[~is_correct]\n",
    "\n",
    "plt.figure(figsize=(10, 7))\n",
    "# bins = np.linspace(0, 1, 50)\n",
    "# plt.hist(success_confidences, bins=bins, alpha=0.7, label='Success', color='green')\n",
    "# plt.hist(error_confidences, bins=bins, alpha=0.7, label='Error', color='red')\n",
    "\n",
    "plt.hist(success_confidences, bins=30, alpha=0.7, label='Successes (Correct Predictions)', color='green')\n",
    "plt.hist(error_confidences, bins=15, alpha=0.8, label='Errors (Incorrect Predictions)', color='red')\n",
    "plt.xlabel('Predicted Confidence Score', fontsize=12)\n",
    "plt.ylabel('Number of Samples', fontsize=12)\n",
    "plt.title('Confidence Score Distribution', fontsize=14)\n",
    "plt.legend()\n",
    "plt.grid(axis='y', alpha=0.5)\n",
    "plt.show()\n",
    "\n"
   ]
  },
  {
   "cell_type": "code",
   "execution_count": 103,
   "id": "e151753c",
   "metadata": {},
   "outputs": [
    {
     "name": "stdout",
     "output_type": "stream",
     "text": [
      "ECE for Your Learned Confidence Model (TCP*): 0.0294\n"
     ]
    }
   ],
   "source": [
    "ece_confidnet= compute_ECE(confidence_scores_tcpr, y_hat, y_labels_int)\n",
    "print(f\"ECE for Your Learned Confidence Model (TCP*): {ece_confidnet:.4f}\")"
   ]
  },
  {
   "cell_type": "code",
   "execution_count": 104,
   "id": "84f41aa4",
   "metadata": {},
   "outputs": [
    {
     "name": "stdout",
     "output_type": "stream",
     "text": [
      "--- Baseline Performance (All 5702 Samples) ---\n",
      "                precision    recall  f1-score   support\n",
      "\n",
      "      Bhairavi       0.91      0.96      0.93       220\n",
      "         Bihag       0.89      0.95      0.92       655\n",
      "           Des       0.83      0.78      0.80       150\n",
      "           Jog       0.97      0.97      0.97       685\n",
      "         Kedar       0.91      0.93      0.92       389\n",
      "        Khamaj       0.75      0.79      0.77       198\n",
      "      Malkauns       0.98      0.97      0.98       560\n",
      "   Maru_bihaag       0.90      0.84      0.87       633\n",
      " Nayaki_kanada       0.98      0.97      0.97       499\n",
      "Shuddha_kalyan       0.96      0.92      0.94       721\n",
      "         Sohni       0.93      0.94      0.94       331\n",
      "         Yaman       0.90      0.92      0.91       661\n",
      "\n",
      "      accuracy                           0.93      5702\n",
      "     macro avg       0.91      0.91      0.91      5702\n",
      "  weighted avg       0.93      0.93      0.93      5702\n",
      "\n",
      "Overall Baseline Accuracy: 0.9253\n",
      "\n",
      "--- Performance on High-Confidence Samples (Threshold = 0.3) ---\n",
      "Kept 5225 of 5702 samples (91.63%) for evaluation.\n",
      "\n",
      "                precision    recall  f1-score   support\n",
      "\n",
      "      Bhairavi       1.00      1.00      1.00       208\n",
      "         Bihag       1.00      1.00      1.00       615\n",
      "           Des       0.96      0.93      0.95       123\n",
      "           Jog       1.00      0.99      0.99       664\n",
      "         Kedar       0.99      1.00      1.00       356\n",
      "        Khamaj       0.93      0.94      0.94       160\n",
      "      Malkauns       1.00      1.00      1.00       545\n",
      "   Maru_bihaag       0.99      0.99      0.99       523\n",
      " Nayaki_kanada       1.00      1.00      1.00       485\n",
      "Shuddha_kalyan       1.00      1.00      1.00       662\n",
      "         Sohni       1.00      0.99      1.00       287\n",
      "         Yaman       0.99      0.99      0.99       597\n",
      "\n",
      "      accuracy                           0.99      5225\n",
      "     macro avg       0.99      0.99      0.99      5225\n",
      "  weighted avg       0.99      0.99      0.99      5225\n",
      "\n",
      "Accuracy on Filtered Set: 0.9922\n"
     ]
    }
   ],
   "source": [
    "from sklearn.metrics import classification_report, accuracy_score\n",
    "\n",
    "# BASELINE performance on the ENTIRE dataset\n",
    "print(\"--- Baseline Performance (All 5702 Samples) ---\")\n",
    "print(classification_report(y_labels_int, y_hat, target_names=label_encoder.classes_))\n",
    "print(f\"Overall Baseline Accuracy: {accuracy_score(y_labels_int, y_hat):.4f}\\n\")\n",
    "\n",
    "#Choose a confidence threshold\n",
    "confidence_threshold = 0.3\n",
    "\n",
    "high_confidence_mask = (confidence_scores >= confidence_threshold)\n",
    "\n",
    "filtered_y_true = y_labels_int[high_confidence_mask]\n",
    "filtered_y_pred = y_hat[high_confidence_mask]\n",
    "print(f\"--- Performance on High-Confidence Samples (Threshold = {confidence_threshold}) ---\")\n",
    "num_kept = len(filtered_y_true)\n",
    "num_total = len(y_labels_int)\n",
    "print(f\"Kept {num_kept} of {num_total} samples ({num_kept/num_total:.2%}) for evaluation.\\n\")\n",
    "\n",
    "if num_kept > 0:\n",
    "    print(classification_report(filtered_y_true, filtered_y_pred, target_names=label_encoder.classes_))\n",
    "    print(f\"Accuracy on Filtered Set: {accuracy_score(filtered_y_true, filtered_y_pred):.4f}\")\n",
    "else:\n",
    "    print(\"No samples remained after filtering with this threshold.\")"
   ]
  },
  {
   "cell_type": "markdown",
   "id": "f1608e16",
   "metadata": {},
   "source": [
    "### Using MCP"
   ]
  },
  {
   "cell_type": "code",
   "execution_count": 105,
   "id": "224e8852",
   "metadata": {},
   "outputs": [
    {
     "data": {
      "image/png": "[encoded data removed]",
      "text/plain": [
       "<Figure size 1000x700 with 1 Axes>"
      ]
     },
     "metadata": {},
     "output_type": "display_data"
    }
   ],
   "source": [
    "import numpy as np\n",
    "import matplotlib.pyplot as plt\n",
    "from sklearn.metrics import classification_report, accuracy_score\n",
    "\n",
    "mcp_scores = np.max(probs, axis=1)\n",
    "is_correct = (y_hat == y_labels_int)\n",
    "mcp_success_confidences = mcp_scores[is_correct]\n",
    "mcp_error_confidences = mcp_scores[~is_correct]\n",
    "\n",
    "plt.figure(figsize=(10, 7))\n",
    "plt.hist(mcp_success_confidences, bins=30, alpha=0.7, label='Successes', color='green')\n",
    "plt.hist(mcp_error_confidences, bins=15, alpha=0.8, label='Errors', color='red')\n",
    "plt.title('MCP Confidence Distribution', fontsize=14)\n",
    "plt.xlabel('MCP Score', fontsize=12)\n",
    "plt.ylabel('Number of Samples', fontsize=12)\n",
    "plt.legend()\n",
    "plt.grid(axis='y', alpha=0.5)\n",
    "plt.show()\n"
   ]
  },
  {
   "cell_type": "code",
   "execution_count": 106,
   "id": "50fecd6f",
   "metadata": {},
   "outputs": [
    {
     "name": "stdout",
     "output_type": "stream",
     "text": [
      "ECE for MCP Confidence Baseline: 0.0120\n"
     ]
    }
   ],
   "source": [
    "ece_mcp = compute_ECE(mcp_scores, y_hat, y_labels_int)\n",
    "print(f\"ECE for MCP Confidence Baseline: {ece_mcp:.4f}\")    "
   ]
  },
  {
   "cell_type": "markdown",
   "id": "fed746fb",
   "metadata": {},
   "source": [
    "### TCP"
   ]
  },
  {
   "cell_type": "code",
   "execution_count": 107,
   "id": "fd897768",
   "metadata": {},
   "outputs": [
    {
     "name": "stdout",
     "output_type": "stream",
     "text": [
      "(5702,)\n"
     ]
    }
   ],
   "source": [
    "tcp_targets= p_y_star / p_y_hat\n",
    "print(tcp_targets.shape)"
   ]
  },
  {
   "cell_type": "code",
   "execution_count": 108,
   "id": "bfdc4c0d",
   "metadata": {},
   "outputs": [
    {
     "data": {
      "image/png": "[encoded data removed]",
      "text/plain": [
       "<Figure size 640x480 with 1 Axes>"
      ]
     },
     "metadata": {},
     "output_type": "display_data"
    }
   ],
   "source": [
    "#plot histogram of tcp_star_targets\n",
    "import matplotlib.pyplot as plt\n",
    "plt.hist(tcp_targets, bins=50)\n",
    "plt.xlabel('TCP Targets')\n",
    "plt.ylabel('Frequency')\n",
    "plt.title('Histogram of TCP Targets')\n",
    "plt.show()"
   ]
  },
  {
   "cell_type": "code",
   "execution_count": 109,
   "id": "405dedcc",
   "metadata": {},
   "outputs": [
    {
     "name": "stdout",
     "output_type": "stream",
     "text": [
      "Balanced embeddings shape: (10552, 64)\n",
      "Balanced TCP Star Targets shape: (10552,)\n"
     ]
    }
   ],
   "source": [
    "# Upsampling the errors to create a balanced batch \n",
    "\n",
    "# Select indices\n",
    "correct_idx = np.where(y_hat == y_true_class)[0]\n",
    "error_idx = np.where(y_hat != y_true_class)[0]\n",
    "\n",
    "# You can duplicate errors to balance them\n",
    "n_errors = len(error_idx)\n",
    "n_correct = len(correct_idx)\n",
    "upsample_errors = np.random.choice(error_idx, size=n_correct, replace=True)\n",
    "\n",
    "balanced_idx = np.concatenate([correct_idx, upsample_errors])\n",
    "np.random.shuffle(balanced_idx)\n",
    "\n",
    "X2_balanced = embeddings[balanced_idx]\n",
    "y2_balanced = tcp_targets[balanced_idx]\n",
    "print(\"Balanced embeddings shape:\", X2_balanced.shape)\n",
    "print(\"Balanced TCP Star Targets shape:\", y2_balanced.shape)"
   ]
  },
  {
   "cell_type": "code",
   "execution_count": 110,
   "id": "698cb3a9",
   "metadata": {},
   "outputs": [],
   "source": [
    "X2=X2_balanced\n",
    "y2=y2_balanced"
   ]
  },
  {
   "cell_type": "code",
   "execution_count": 111,
   "id": "7435ae7d",
   "metadata": {},
   "outputs": [],
   "source": [
    "from sklearn.model_selection import train_test_split\n",
    "\n",
    "# 80% for training, 20% for validation\n",
    "X2_train, X2_val, y2_train, y2_val = train_test_split(\n",
    "    X2, y2, test_size=0.2, random_state=42\n",
    ")\n"
   ]
  },
  {
   "cell_type": "code",
   "execution_count": 112,
   "id": "12c94b1a",
   "metadata": {},
   "outputs": [
    {
     "name": "stdout",
     "output_type": "stream",
     "text": [
      "Epoch 01 | Train Loss: 0.139960 | Val Loss: 0.125157\n",
      "Epoch 02 | Train Loss: 0.116064 | Val Loss: 0.113115\n",
      "Epoch 03 | Train Loss: 0.106712 | Val Loss: 0.098563\n",
      "Epoch 04 | Train Loss: 0.098264 | Val Loss: 0.095865\n",
      "Epoch 05 | Train Loss: 0.093089 | Val Loss: 0.087613\n",
      "Epoch 06 | Train Loss: 0.084894 | Val Loss: 0.076956\n",
      "Epoch 07 | Train Loss: 0.080689 | Val Loss: 0.080812\n",
      "Epoch 08 | Train Loss: 0.078402 | Val Loss: 0.083088\n",
      "Epoch 09 | Train Loss: 0.072235 | Val Loss: 0.071680\n",
      "Epoch 10 | Train Loss: 0.065843 | Val Loss: 0.070448\n",
      "Epoch 11 | Train Loss: 0.060902 | Val Loss: 0.068516\n",
      "Epoch 12 | Train Loss: 0.061970 | Val Loss: 0.070274\n",
      "Epoch 13 | Train Loss: 0.057419 | Val Loss: 0.069664\n",
      "Epoch 14 | Train Loss: 0.052195 | Val Loss: 0.059213\n",
      "Epoch 15 | Train Loss: 0.047746 | Val Loss: 0.060695\n",
      "Epoch 16 | Train Loss: 0.051255 | Val Loss: 0.049779\n",
      "Epoch 17 | Train Loss: 0.043799 | Val Loss: 0.064232\n",
      "Epoch 18 | Train Loss: 0.044064 | Val Loss: 0.053186\n",
      "Epoch 19 | Train Loss: 0.040788 | Val Loss: 0.057355\n",
      "Epoch 20 | Train Loss: 0.039721 | Val Loss: 0.049439\n",
      "Epoch 21 | Train Loss: 0.038029 | Val Loss: 0.050804\n",
      "Epoch 22 | Train Loss: 0.036915 | Val Loss: 0.043844\n",
      "Epoch 23 | Train Loss: 0.036030 | Val Loss: 0.042771\n",
      "Epoch 24 | Train Loss: 0.032187 | Val Loss: 0.042638\n",
      "Epoch 25 | Train Loss: 0.029107 | Val Loss: 0.046680\n",
      "Epoch 26 | Train Loss: 0.028954 | Val Loss: 0.037663\n",
      "Epoch 27 | Train Loss: 0.026458 | Val Loss: 0.043545\n",
      "Epoch 28 | Train Loss: 0.029476 | Val Loss: 0.036481\n",
      "Epoch 29 | Train Loss: 0.030068 | Val Loss: 0.052804\n",
      "Epoch 30 | Train Loss: 0.028937 | Val Loss: 0.049982\n",
      "Epoch 31 | Train Loss: 0.027683 | Val Loss: 0.036998\n",
      "Epoch 32 | Train Loss: 0.024887 | Val Loss: 0.035991\n",
      "Epoch 33 | Train Loss: 0.025463 | Val Loss: 0.043568\n",
      "Epoch 34 | Train Loss: 0.024725 | Val Loss: 0.035043\n",
      "Epoch 35 | Train Loss: 0.024395 | Val Loss: 0.038981\n",
      "Epoch 36 | Train Loss: 0.021274 | Val Loss: 0.045628\n",
      "Epoch 37 | Train Loss: 0.024752 | Val Loss: 0.040461\n",
      "Epoch 38 | Train Loss: 0.024551 | Val Loss: 0.036005\n",
      "Epoch 39 | Train Loss: 0.022108 | Val Loss: 0.035811\n",
      "Epoch 40 | Train Loss: 0.020323 | Val Loss: 0.031409\n",
      "Epoch 41 | Train Loss: 0.018528 | Val Loss: 0.034618\n",
      "Epoch 42 | Train Loss: 0.017396 | Val Loss: 0.034248\n",
      "Epoch 43 | Train Loss: 0.018326 | Val Loss: 0.039281\n",
      "Epoch 44 | Train Loss: 0.019542 | Val Loss: 0.048090\n",
      "Epoch 45 | Train Loss: 0.024010 | Val Loss: 0.034557\n",
      "Epoch 46 | Train Loss: 0.017826 | Val Loss: 0.031268\n",
      "Epoch 47 | Train Loss: 0.016662 | Val Loss: 0.028382\n",
      "Epoch 48 | Train Loss: 0.019122 | Val Loss: 0.029733\n",
      "Epoch 49 | Train Loss: 0.018255 | Val Loss: 0.037048\n",
      "Epoch 50 | Train Loss: 0.019148 | Val Loss: 0.049507\n"
     ]
    }
   ],
   "source": [
    "import torch\n",
    "from torch.utils.data import DataLoader, TensorDataset\n",
    "from torch.optim import Adam\n",
    "from torch.optim import AdamW\n",
    "\n",
    "X2_train_tensor = torch.tensor(X2_train, dtype=torch.float32)\n",
    "y2_train_tensor = torch.tensor(y2_train, dtype=torch.float32)\n",
    "\n",
    "X2_val_tensor = torch.tensor(X2_val, dtype=torch.float32)\n",
    "y2_val_tensor = torch.tensor(y2_val, dtype=torch.float32)\n",
    "\n",
    "train2_dataset= TensorDataset(X2_train_tensor, y2_train_tensor)\n",
    "val2_dataset = TensorDataset(X2_val_tensor, y2_val_tensor)\n",
    "\n",
    "train2_loader = DataLoader(train2_dataset, batch_size=64, shuffle=True)\n",
    "val2_loader = DataLoader(val2_dataset, batch_size=64, shuffle=False)\n",
    "\n",
    "input_dim = X2_train.shape[1]\n",
    "output_dim = 1\n",
    "model = ConfidenceNet(input_dim)\n",
    "optimizer = AdamW(model.parameters(), lr=1e-3, weight_decay=1e-2)\n",
    "criterion = nn.MSELoss()\n",
    "\n",
    "# Training the model\n",
    "for epoch in range(50):\n",
    "    model.train()\n",
    "    train_losses=[]\n",
    "    for xb, yb in train_loader:\n",
    "        pred=model(xb)\n",
    "        loss = criterion(pred, yb)\n",
    "        optimizer.zero_grad()\n",
    "        loss.backward()\n",
    "        optimizer.step()\n",
    "        train_losses.append(loss.item())\n",
    "    \n",
    "    model.eval()\n",
    "    val_losses = []\n",
    "    with torch.no_grad():\n",
    "        for xb, yb in val_loader:\n",
    "            pred = model(xb)\n",
    "            loss = criterion(pred, yb)\n",
    "            val_losses.append(loss.item())\n",
    "\n",
    "    print(f\"Epoch {epoch+1:02d} | Train Loss: {sum(train_losses)/len(train_losses):.6f} | \"\n",
    "          f\"Val Loss: {sum(val_losses)/len(val_losses):.6f}\")"
   ]
  },
  {
   "cell_type": "code",
   "execution_count": 113,
   "id": "4789a100",
   "metadata": {},
   "outputs": [
    {
     "name": "stdout",
     "output_type": "stream",
     "text": [
      "Confidence scores shape: (5702,)\n"
     ]
    }
   ],
   "source": [
    "model.eval()\n",
    "with torch.no_grad():\n",
    "    X2_test_tensor = torch.tensor(embeddings, dtype=torch.float32)\n",
    "    confidence_scores_tcp = model(X2_test_tensor).numpy()  # shape: (5702,)\n",
    "print(\"Confidence scores shape:\", confidence_scores_tcp.shape) #score from the final sigmoid layer"
   ]
  },
  {
   "cell_type": "code",
   "execution_count": 114,
   "id": "6f2ea9f7",
   "metadata": {},
   "outputs": [
    {
     "name": "stdout",
     "output_type": "stream",
     "text": [
      "Min value in confidence scores: 3.2242722e-05\n",
      "Max value in confidence scores: 1.0\n"
     ]
    }
   ],
   "source": [
    "#min and max values of confidence scores\n",
    "print(\"Min value in confidence scores:\", np.min(confidence_scores_tcp))\n",
    "print(\"Max value in confidence scores:\", np.max(confidence_scores_tcp))"
   ]
  },
  {
   "cell_type": "code",
   "execution_count": 115,
   "id": "da12c06d",
   "metadata": {},
   "outputs": [
    {
     "data": {
      "image/png": "[encoded data removed]",
      "text/plain": [
       "<Figure size 1000x700 with 1 Axes>"
      ]
     },
     "metadata": {},
     "output_type": "display_data"
    }
   ],
   "source": [
    "import matplotlib.pyplot as plt\n",
    "from sklearn.preprocessing import LabelEncoder\n",
    "label_encoder = LabelEncoder()\n",
    "y_labels_int = label_encoder.fit_transform(y_labels)\n",
    "is_correct = (y_hat == y_true_class)\n",
    "success_confidences = confidence_scores_tcp[is_correct]\n",
    "error_confidences = confidence_scores_tcp[~is_correct]\n",
    "\n",
    "plt.figure(figsize=(10, 7))\n",
    "# bins = np.linspace(0, 1, 50)\n",
    "# plt.hist(success_confidences, bins=bins, alpha=0.7, label='Success', color='green')\n",
    "# plt.hist(error_confidences, bins=bins, alpha=0.7, label='Error', color='red')\n",
    "\n",
    "plt.hist(success_confidences, bins=30, alpha=0.7, label='Successes (Correct Predictions)', color='green')\n",
    "plt.hist(error_confidences, bins=15, alpha=0.8, label='Errors (Incorrect Predictions)', color='red')\n",
    "plt.xlabel('Predicted Confidence Score', fontsize=12)\n",
    "plt.ylabel('Number of Samples', fontsize=12)\n",
    "plt.title('Confidence Score Distribution', fontsize=14)\n",
    "plt.legend()\n",
    "plt.grid(axis='y', alpha=0.5)\n",
    "plt.show()\n",
    "\n"
   ]
  },
  {
   "cell_type": "code",
   "execution_count": 116,
   "id": "7f6a4fac",
   "metadata": {},
   "outputs": [
    {
     "name": "stdout",
     "output_type": "stream",
     "text": [
      "ECE for Your Learned Confidence Model (TCP*): 0.0291\n"
     ]
    }
   ],
   "source": [
    "ece_confidnet= compute_ECE(confidence_scores_tcp, y_hat, y_labels_int)\n",
    "print(f\"ECE for Your Learned Confidence Model (TCP*): {ece_confidnet:.4f}\")"
   ]
  }
 ],
 "metadata": {
  "kernelspec": {
   "display_name": "jello",
   "language": "python",
   "name": "python3"
  },
  "language_info": {
   "codemirror_mode": {
    "name": "ipython",
    "version": 3
   },
   "file_extension": ".py",
   "mimetype": "text/x-python",
   "name": "python",
   "nbconvert_exporter": "python",
   "pygments_lexer": "ipython3",
   "version": "3.10.16"
  }
 },
 "nbformat": 4,
 "nbformat_minor": 5
}
