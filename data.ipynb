{
 "cells": [
  {
   "cell_type": "code",
   "execution_count": 1,
   "id": "2b9cc104",
   "metadata": {},
   "outputs": [
    {
     "ename": "ModuleNotFoundError",
     "evalue": "No module named 'idx2numpy'",
     "output_type": "error",
     "traceback": [
      "\u001b[0;31m---------------------------------------------------------------------------\u001b[0m",
      "\u001b[0;31mModuleNotFoundError\u001b[0m                       Traceback (most recent call last)",
      "Cell \u001b[0;32mIn[1], line 1\u001b[0m\n\u001b[0;32m----> 1\u001b[0m \u001b[38;5;28;01mimport\u001b[39;00m\u001b[38;5;250m \u001b[39m\u001b[38;5;21;01midx2numpy\u001b[39;00m\n\u001b[1;32m      2\u001b[0m \u001b[38;5;28;01mimport\u001b[39;00m\u001b[38;5;250m \u001b[39m\u001b[38;5;21;01mgzip\u001b[39;00m\n",
      "\u001b[0;31mModuleNotFoundError\u001b[0m: No module named 'idx2numpy'"
     ]
    }
   ],
   "source": [
    "import idx2numpy\n",
    "import gzip"
   ]
  },
  {
   "cell_type": "code",
   "execution_count": null,
   "id": "2dd7ef69",
   "metadata": {},
   "outputs": [
    {
     "name": "stdout",
     "output_type": "stream",
     "text": [
      "train images shape:  (60000, 28, 28)\n",
      "train labels shape:  (60000,)\n"
     ]
    }
   ],
   "source": [
    "def load_idx2numpy(file_path):\n",
    "    with open(file_path, 'rb') as f:\n",
    "        return idx2numpy.convert_from_file(f)\n",
    "\n",
    "#loading data\n",
    "x_train= load_idx2numpy('/Users/anushka/Documents/Summer-Project-/archive/train-images.idx3-ubyte')\n",
    "y_train= load_idx2numpy('/Users/anushka/Documents/Summer-Project-/archive/train-labels.idx1-ubyte')\n",
    "x_test= load_idx2numpy('/Users/anushka/Documents/Summer-Project-/archive/t10k-images.idx3-ubyte')\n",
    "y_test= load_idx2numpy('/Users/anushka/Documents/Summer-Project-/archive/t10k-labels.idx1-ubyte')\n",
    "print(\"train images shape: \", x_train.shape)\n",
    "print(\"train labels shape: \", y_train.shape)"
   ]
  },
  {
   "cell_type": "code",
   "execution_count": null,
   "id": "d8a1a43e",
   "metadata": {},
   "outputs": [
    {
     "data": {
      "image/png": "[encoded data removed]",
      "text/plain": [
       "<Figure size 1200x200 with 10 Axes>"
      ]
     },
     "metadata": {},
     "output_type": "display_data"
    }
   ],
   "source": [
    "import matplotlib.pyplot as plt\n",
    "\n",
    "def show_images(images, labels, n=10):\n",
    "    plt.figure(figsize=(12, 2))\n",
    "    for i in range(n):\n",
    "        plt.subplot(1, n, i + 1)\n",
    "        plt.imshow(images[i], cmap='gray')\n",
    "        plt.title(f\"Label: {labels[i]}\")\n",
    "        plt.axis('off')\n",
    "    plt.show()\n",
    "\n",
    "show_images(x_train, y_train, n=10)\n"
   ]
  },
  {
   "cell_type": "code",
   "execution_count": null,
   "id": "7e966a14",
   "metadata": {},
   "outputs": [
    {
     "name": "stdout",
     "output_type": "stream",
     "text": [
      "Processed MNIST data saved to: /Users/anushka/Documents/Summer-Project-/processed_mnist\n"
     ]
    }
   ],
   "source": [
    "#clone the repo in the terminal \n",
    "import os\n",
    "from PIL import Image\n",
    "output_base_dir = '/Users/anushka/Documents/Summer-Project-/processed_mnist'\n",
    "\n",
    "# Create train and test directories\n",
    "train_dir = os.path.join(output_base_dir, 'train')\n",
    "test_dir = os.path.join(output_base_dir, 'test')\n",
    "os.makedirs(train_dir, exist_ok=True)\n",
    "os.makedirs(test_dir, exist_ok=True)\n",
    "\n",
    "# Create class subdirectories (0-9)\n",
    "for i in range(10):\n",
    "    os.makedirs(os.path.join(train_dir, str(i)), exist_ok=True)\n",
    "    os.makedirs(os.path.join(test_dir, str(i)), exist_ok=True)\n",
    "\n",
    "# Save training images\n",
    "for i, (image_array, label) in enumerate(zip(x_train, y_train)):\n",
    "    img = Image.fromarray(image_array) # MNIST images are grayscale\n",
    "    img_path = os.path.join(train_dir, str(label), f'image_{i:05d}.png')\n",
    "    img.save(img_path)\n",
    "\n",
    "# Save testing images\n",
    "for i, (image_array, label) in enumerate(zip(x_test, y_test)):\n",
    "    img = Image.fromarray(image_array) # MNIST images are grayscale\n",
    "    img_path = os.path.join(test_dir, str(label), f'image_{i:05d}.png')\n",
    "    img.save(img_path)\n",
    "\n",
    "print(f\"Processed MNIST data saved to: {output_base_dir}\")"
   ]
  },
  {
   "cell_type": "code",
   "execution_count": null,
   "id": "15e62f6a",
   "metadata": {},
   "outputs": [],
   "source": []
  },
  {
   "cell_type": "code",
   "execution_count": null,
   "id": "18d9c64a",
   "metadata": {},
   "outputs": [
    {
     "name": "stdout",
     "output_type": "stream",
     "text": [
      "60000 torch.Size([3, 28, 28])\n"
     ]
    }
   ],
   "source": [
    "from torchvision import datasets, transforms\n",
    "\n",
    "data_transform = transforms.ToTensor()\n",
    "train_data = datasets.ImageFolder(\n",
    "    root='/Users/anushka/Documents/Summer-Project-/processed_mnist/train',\n",
    "    transform=data_transform\n",
    ")\n",
    "test_data = datasets.ImageFolder(\n",
    "    root='/Users/anushka/Documents/Summer-Project-/processed_mnist/test',\n",
    "    transform=data_transform\n",
    ")\n",
    "\n",
    "print(len(train_data), train_data[0][0].shape)"
   ]
  }
 ],
 "metadata": {
  "kernelspec": {
   "display_name": "jello",
   "language": "python",
   "name": "python3"
  },
  "language_info": {
   "codemirror_mode": {
    "name": "ipython",
    "version": 3
   },
   "file_extension": ".py",
   "mimetype": "text/x-python",
   "name": "python",
   "nbconvert_exporter": "python",
   "pygments_lexer": "ipython3",
   "version": "3.10.16"
  }
 },
 "nbformat": 4,
 "nbformat_minor": 5
}
